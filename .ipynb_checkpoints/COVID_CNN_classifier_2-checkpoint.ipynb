{
 "cells": [
  {
   "cell_type": "code",
   "execution_count": 1,
   "id": "44071269",
   "metadata": {},
   "outputs": [],
   "source": [
    "#count number of image types\n",
    "import os\n",
    "import numpy as np\n",
    "\n",
    "root_dir = os.getcwd()\n",
    "total_covid_files = 0\n",
    "total_normal_files = 0\n",
    "total_pneumonia_files = 0\n",
    "\n",
    "for base, dirs, files in os.walk(root_dir + '/COVID'):\n",
    "    for Files in files:\n",
    "        total_covid_files += 1\n",
    "        \n",
    "for base, dirs, files in os.walk(root_dir + '/Normal'):\n",
    "    for Files in files:\n",
    "        total_normal_files += 1\n",
    "\n",
    "for base, dirs, files in os.walk(root_dir + '/Viral Pneumonia'):\n",
    "    for Files in files:\n",
    "        total_pneumonia_files += 1\n"
   ]
  },
  {
   "cell_type": "code",
   "execution_count": 39,
   "id": "0ce52ecb",
   "metadata": {},
   "outputs": [],
   "source": [
    "#establish root, training and validation directories for image types\n",
    "all_covid_dir = os.path.join(root_dir, 'COVID')\n",
    "all_normal_dir = os.path.join(root_dir, 'Normal')\n",
    "all_pneumonia_dir = os.path.join(root_dir, 'Viral Pneumonia')\n",
    "\n",
    "train_dir = os.path.join(root_dir, 'train_imgs')\n",
    "valid_dir = os.path.join(root_dir, 'valid_imgs')\n",
    "\n",
    "train_covid_dir = os.path.join(train_dir, 'COVID')\n",
    "train_normal_dir = os.path.join(train_dir, 'Normal')\n",
    "train_pneumonia_dir = os.path.join(train_dir, 'Viral Pneumonia')\n",
    "valid_covid_dir = os.path.join(valid_dir, 'COVID')\n",
    "valid_normal_dir = os.path.join(valid_dir, 'Normal')\n",
    "valid_pneumonia_dir = os.path.join(valid_dir, 'Viral Pneumonia')\n",
    "finalize_model_dir = os.path.join(root_dir, 'finalize_model_dir')\n",
    "finalize_binary_dir = os.path.join(root_dir, 'finalize_binary_dir')\n",
    "\n",
    "\n",
    "binary_dir = os.path.join(root_dir, 'binary_classification')\n",
    "binary_train_dir = os.path.join(binary_dir, 'train_imgs')\n",
    "binary_valid_dir = os.path.join(binary_dir, 'valid_imgs')\n",
    "binary_covid_train_dir = os.path.join(binary_train_dir, 'COVID')\n",
    "binary_non_covid_train_dir = os.path.join(binary_train_dir, 'Non-COVID')\n",
    "binary_covid_valid_dir = os.path.join(binary_valid_dir, 'COVID')\n",
    "binary_non_covid_valid_dir = os.path.join(binary_valid_dir, 'Non-COVID')\n"
   ]
  },
  {
   "cell_type": "code",
   "execution_count": 3,
   "id": "5562a3c6",
   "metadata": {},
   "outputs": [],
   "source": [
    "#sample images of each type to be split into training and validation sets\n",
    "sample_size = 1000\n",
    "train_ratio = 0.8\n",
    "\n",
    "training_size = int(sample_size*train_ratio)\n",
    "valid_size = sample_size - training_size\n",
    "\n",
    "covid_train = list(np.random.choice(range(total_covid_files), sample_size, replace=False))\n",
    "normal_train = list(np.random.choice(range(total_normal_files), sample_size, replace=False))\n",
    "pneumonia_train = list(np.random.choice(range(total_pneumonia_files), sample_size, replace=False))\n",
    "covid_valid = []\n",
    "normal_valid = []\n",
    "pneumonia_valid = []\n",
    "\n",
    "for i in range(valid_size):\n",
    "    covid_index = np.random.choice(covid_train)\n",
    "    normal_index = np.random.choice(normal_train)\n",
    "    pneumonia_index = np.random.choice(pneumonia_train)\n",
    "    \n",
    "    covid_valid.append(covid_index)\n",
    "    covid_train.remove(covid_index)\n",
    "    normal_valid.append(normal_index)\n",
    "    normal_train.remove(normal_index)\n",
    "    pneumonia_valid.append(pneumonia_index)\n",
    "    pneumonia_train.remove(pneumonia_index)\n",
    "\n",
    "from shutil import copy\n",
    "\n",
    "for index in covid_train:\n",
    "    filename = all_covid_dir + '\\COVID-' + str(index+1) + '.png'\n",
    "    copy(filename, train_covid_dir)\n",
    "    \n",
    "for index in covid_valid:\n",
    "    filename = all_covid_dir + '\\COVID-' + str(index+1) + '.png'\n",
    "    copy(filename, valid_covid_dir)\n",
    "    \n",
    "for index in normal_train:\n",
    "    filename = all_normal_dir + '\\\\Normal-' + str(index+1) + '.png'\n",
    "    copy(filename, train_normal_dir)\n",
    "    \n",
    "for index in normal_valid:\n",
    "    filename = all_normal_dir + '\\\\Normal-' + str(index+1) + '.png'\n",
    "    copy(filename, valid_normal_dir)\n",
    "    \n",
    "for index in pneumonia_train:\n",
    "    filename = all_pneumonia_dir + '\\Viral Pneumonia-' + str(index+1) + '.png'\n",
    "    copy(filename, train_pneumonia_dir)\n",
    "    \n",
    "for index in pneumonia_valid:\n",
    "    filename = all_pneumonia_dir + '\\Viral Pneumonia-' + str(index+1) + '.png'\n",
    "    copy(filename, valid_pneumonia_dir)\n",
    "\n",
    "    "
   ]
  },
  {
   "cell_type": "code",
   "execution_count": 6,
   "id": "60fca7de",
   "metadata": {},
   "outputs": [
    {
     "name": "stdout",
     "output_type": "stream",
     "text": [
      "Found 2400 images belonging to 3 classes.\n",
      "Found 600 images belonging to 3 classes.\n"
     ]
    }
   ],
   "source": [
    "# Image pre-processing\n",
    "train_datagen = ImageDataGenerator(rescale=1./255)\n",
    "val_datagen = ImageDataGenerator(rescale=1./255)\n",
    "\n",
    "# Flow training images in batches using train_datagen generator\n",
    "train_generator = train_datagen.flow_from_directory(\n",
    "        train_dir,\n",
    "        target_size=(299, 299),\n",
    "        batch_size=64,\n",
    "        class_mode='categorical')\n",
    "\n",
    "# Flow validation images in batches using val_datagen generator\n",
    "validation_generator = val_datagen.flow_from_directory(\n",
    "        valid_dir,\n",
    "        target_size=(299, 299),\n",
    "        batch_size=64,\n",
    "        class_mode='categorical')"
   ]
  },
  {
   "cell_type": "code",
   "execution_count": 5,
   "id": "25099bd1",
   "metadata": {},
   "outputs": [
    {
     "name": "stdout",
     "output_type": "stream",
     "text": [
      "Model: \"sequential\"\n",
      "_________________________________________________________________\n",
      "Layer (type)                 Output Shape              Param #   \n",
      "=================================================================\n",
      "conv2d (Conv2D)              (None, 299, 299, 32)      896       \n",
      "_________________________________________________________________\n",
      "max_pooling2d (MaxPooling2D) (None, 149, 149, 32)      0         \n",
      "_________________________________________________________________\n",
      "conv2d_1 (Conv2D)            (None, 149, 149, 64)      18496     \n",
      "_________________________________________________________________\n",
      "max_pooling2d_1 (MaxPooling2 (None, 74, 74, 64)        0         \n",
      "_________________________________________________________________\n",
      "conv2d_2 (Conv2D)            (None, 74, 74, 128)       73856     \n",
      "_________________________________________________________________\n",
      "max_pooling2d_2 (MaxPooling2 (None, 37, 37, 128)       0         \n",
      "_________________________________________________________________\n",
      "flatten (Flatten)            (None, 175232)            0         \n",
      "_________________________________________________________________\n",
      "dense (Dense)                (None, 128)               22429824  \n",
      "_________________________________________________________________\n",
      "dense_1 (Dense)              (None, 64)                8256      \n",
      "_________________________________________________________________\n",
      "dense_2 (Dense)              (None, 3)                 195       \n",
      "=================================================================\n",
      "Total params: 22,531,523\n",
      "Trainable params: 22,531,523\n",
      "Non-trainable params: 0\n",
      "_________________________________________________________________\n"
     ]
    }
   ],
   "source": [
    "# Binary CNN classifier using VGG model blocks\n",
    "\n",
    "import sys\n",
    "from keras.utils import to_categorical\n",
    "from keras.models import Sequential\n",
    "from keras.layers import Conv2D\n",
    "from keras.layers import MaxPooling2D\n",
    "from keras.layers import Dense\n",
    "from keras.layers import Flatten\n",
    "from keras.optimizers import Adam\n",
    "from keras.preprocessing.image import ImageDataGenerator\n",
    "\n",
    "\n",
    "def build_CNN():\n",
    "    cnn = Sequential()\n",
    "    cnn.add(Conv2D(32, (3, 3), activation='relu', kernel_initializer='he_uniform', padding='same', input_shape=(299, 299, 3)))\n",
    "    cnn.add(MaxPooling2D((2, 2)))\n",
    "    cnn.add(Conv2D(64, (3, 3), activation='relu', kernel_initializer='he_uniform', padding='same'))\n",
    "    cnn.add(MaxPooling2D((2, 2)))\n",
    "    cnn.add(Conv2D(128, (3, 3), activation='relu', kernel_initializer='he_uniform', padding='same'))\n",
    "    cnn.add(MaxPooling2D((2, 2)))\n",
    "    cnn.add(Flatten())\n",
    "    cnn.add(Dense(128, activation='relu', kernel_initializer='he_uniform'))\n",
    "    cnn.add(Dense(64, activation='relu', kernel_initializer='he_uniform'))\n",
    "    cnn.add(Dense(3, activation='softmax'))\n",
    "    cnn.compile(optimizer=\"adam\", loss='categorical_crossentropy', metrics=['accuracy'])\n",
    "    return cnn\n",
    "\n",
    "test_model = build_CNN()\n",
    "test_model.summary()"
   ]
  },
  {
   "cell_type": "code",
   "execution_count": 101,
   "id": "868d367c",
   "metadata": {},
   "outputs": [
    {
     "name": "stdout",
     "output_type": "stream",
     "text": [
      "Epoch 1/20\n",
      "38/38 - 290s - loss: 4.2412 - accuracy: 0.6562 - val_loss: 0.3820 - val_accuracy: 0.8350\n",
      "Epoch 2/20\n",
      "38/38 - 278s - loss: 0.3275 - accuracy: 0.8763 - val_loss: 0.3193 - val_accuracy: 0.8867\n",
      "Epoch 3/20\n",
      "38/38 - 277s - loss: 0.2185 - accuracy: 0.9192 - val_loss: 0.2991 - val_accuracy: 0.8950\n",
      "Epoch 4/20\n",
      "38/38 - 284s - loss: 0.1474 - accuracy: 0.9446 - val_loss: 0.2724 - val_accuracy: 0.8983\n",
      "Epoch 5/20\n",
      "38/38 - 277s - loss: 0.0958 - accuracy: 0.9650 - val_loss: 0.3216 - val_accuracy: 0.8900\n",
      "Epoch 6/20\n",
      "38/38 - 280s - loss: 0.0686 - accuracy: 0.9771 - val_loss: 0.3405 - val_accuracy: 0.8967\n",
      "Epoch 7/20\n",
      "38/38 - 277s - loss: 0.0352 - accuracy: 0.9896 - val_loss: 0.3682 - val_accuracy: 0.9083\n",
      "Epoch 8/20\n",
      "38/38 - 278s - loss: 0.0160 - accuracy: 0.9946 - val_loss: 0.3816 - val_accuracy: 0.9067\n",
      "Epoch 9/20\n",
      "38/38 - 274s - loss: 0.0124 - accuracy: 0.9971 - val_loss: 0.3641 - val_accuracy: 0.9150\n",
      "Epoch 10/20\n",
      "38/38 - 279s - loss: 0.0076 - accuracy: 0.9996 - val_loss: 0.5369 - val_accuracy: 0.8933\n",
      "Epoch 11/20\n",
      "38/38 - 273s - loss: 0.0293 - accuracy: 0.9908 - val_loss: 0.4446 - val_accuracy: 0.9033\n",
      "Epoch 12/20\n",
      "38/38 - 272s - loss: 0.0365 - accuracy: 0.9892 - val_loss: 0.3579 - val_accuracy: 0.9183\n",
      "Epoch 13/20\n",
      "38/38 - 275s - loss: 0.0227 - accuracy: 0.9925 - val_loss: 0.3701 - val_accuracy: 0.9033\n",
      "Epoch 14/20\n",
      "38/38 - 269s - loss: 0.0186 - accuracy: 0.9954 - val_loss: 0.4071 - val_accuracy: 0.9200\n",
      "Epoch 15/20\n",
      "38/38 - 275s - loss: 0.0074 - accuracy: 0.9983 - val_loss: 0.4569 - val_accuracy: 0.9217\n",
      "Epoch 16/20\n",
      "38/38 - 272s - loss: 0.0041 - accuracy: 0.9987 - val_loss: 0.4995 - val_accuracy: 0.9200\n",
      "Epoch 17/20\n",
      "38/38 - 276s - loss: 0.0014 - accuracy: 0.9996 - val_loss: 0.5659 - val_accuracy: 0.9100\n",
      "Epoch 18/20\n",
      "38/38 - 295s - loss: 0.0068 - accuracy: 0.9979 - val_loss: 0.5687 - val_accuracy: 0.9017\n",
      "Epoch 19/20\n",
      "38/38 - 289s - loss: 0.0337 - accuracy: 0.9892 - val_loss: 0.4673 - val_accuracy: 0.9083\n",
      "Epoch 20/20\n",
      "38/38 - 299s - loss: 0.0136 - accuracy: 0.9962 - val_loss: 0.4510 - val_accuracy: 0.9150\n"
     ]
    }
   ],
   "source": [
    "# fit the model\n",
    "# history = model.fit_generator(\n",
    "#       train_generator,\n",
    "#       steps_per_epoch=100,  # 2000 images = batch_size * steps\n",
    "#       epochs=15,\n",
    "#       validation_data=validation_generator,\n",
    "#       validation_steps=50,  # 1000 images = batch_size * steps\n",
    "#       verbose=2)\n",
    "\n",
    "history = test_model.fit_generator(\n",
    "    train_generator, \n",
    "    steps_per_epoch=len(train_generator),\n",
    "    validation_data=validation_generator, \n",
    "    validation_steps=len(validation_generator), \n",
    "    epochs=20, \n",
    "    verbose=2)"
   ]
  },
  {
   "cell_type": "code",
   "execution_count": 103,
   "id": "f51e19fd",
   "metadata": {},
   "outputs": [
    {
     "data": {
      "text/plain": [
       "Text(0.5, 1.0, 'Training and validation loss')"
      ]
     },
     "execution_count": 103,
     "metadata": {},
     "output_type": "execute_result"
    },
    {
     "data": {
      "image/png": "[encoded data removed]",
      "text/plain": [
       "<Figure size 432x288 with 1 Axes>"
      ]
     },
     "metadata": {
      "needs_background": "light"
     },
     "output_type": "display_data"
    },
    {
     "data": {
      "image/png": "[encoded data removed]",
      "text/plain": [
       "<Figure size 432x288 with 1 Axes>"
      ]
     },
     "metadata": {
      "needs_background": "light"
     },
     "output_type": "display_data"
    }
   ],
   "source": [
    "# Retrieve a list of accuracy results on training and validation data\n",
    "# sets for each training epoch\n",
    "acc = history.history['accuracy']\n",
    "val_acc = history.history['val_accuracy']\n",
    "\n",
    "# Retrieve a list of list results on training and validation data\n",
    "# sets for each training epoch\n",
    "loss = history.history['loss']\n",
    "val_loss = history.history['val_loss']\n",
    "\n",
    "# Get number of epochs\n",
    "epochs = range(len(acc))\n",
    "\n",
    "# Plot training and validation accuracy per epoch\n",
    "plt.plot(epochs, acc)\n",
    "plt.plot(epochs, val_acc)\n",
    "plt.title('Training and validation accuracy')\n",
    "\n",
    "plt.figure()\n",
    "\n",
    "# Plot training and validation loss per epoch\n",
    "plt.plot(epochs, loss)\n",
    "plt.plot(epochs, val_loss)\n",
    "plt.title('Training and validation loss')"
   ]
  },
  {
   "cell_type": "code",
   "execution_count": 8,
   "id": "fe1a94e8",
   "metadata": {},
   "outputs": [
    {
     "name": "stdout",
     "output_type": "stream",
     "text": [
      "Epoch 1/20\n",
      "38/38 - 322s - loss: 9.4416 - accuracy: 0.3921 - val_loss: 1.0400 - val_accuracy: 0.5450\n",
      "Epoch 2/20\n",
      "38/38 - 314s - loss: 0.8823 - accuracy: 0.5879 - val_loss: 0.8037 - val_accuracy: 0.7117\n",
      "Epoch 3/20\n",
      "38/38 - 337s - loss: 0.6877 - accuracy: 0.7042 - val_loss: 0.5733 - val_accuracy: 0.8133\n",
      "Epoch 4/20\n",
      "38/38 - 330s - loss: 0.5721 - accuracy: 0.7692 - val_loss: 0.4780 - val_accuracy: 0.8367\n",
      "Epoch 5/20\n",
      "38/38 - 323s - loss: 0.4735 - accuracy: 0.8042 - val_loss: 0.4615 - val_accuracy: 0.8367\n",
      "Epoch 6/20\n",
      "38/38 - 318s - loss: 0.4272 - accuracy: 0.8367 - val_loss: 0.4159 - val_accuracy: 0.8667\n",
      "Epoch 7/20\n",
      "38/38 - 324s - loss: 0.3890 - accuracy: 0.8567 - val_loss: 0.4528 - val_accuracy: 0.8417\n",
      "Epoch 8/20\n",
      "38/38 - 320s - loss: 0.3535 - accuracy: 0.8625 - val_loss: 0.4112 - val_accuracy: 0.8650\n",
      "Epoch 9/20\n",
      "38/38 - 314s - loss: 0.3332 - accuracy: 0.8733 - val_loss: 0.3895 - val_accuracy: 0.8583\n",
      "Epoch 10/20\n",
      "38/38 - 310s - loss: 0.2861 - accuracy: 0.8938 - val_loss: 0.5001 - val_accuracy: 0.8367\n",
      "Epoch 11/20\n",
      "38/38 - 307s - loss: 0.2738 - accuracy: 0.8958 - val_loss: 0.4152 - val_accuracy: 0.8550\n",
      "Epoch 12/20\n",
      "38/38 - 313s - loss: 0.2782 - accuracy: 0.9029 - val_loss: 0.3635 - val_accuracy: 0.8833\n",
      "Epoch 13/20\n",
      "38/38 - 314s - loss: 0.2208 - accuracy: 0.9200 - val_loss: 0.3987 - val_accuracy: 0.8800\n",
      "Epoch 14/20\n",
      "38/38 - 315s - loss: 0.2349 - accuracy: 0.9092 - val_loss: 0.3809 - val_accuracy: 0.8767\n",
      "Epoch 15/20\n",
      "38/38 - 316s - loss: 0.2169 - accuracy: 0.9225 - val_loss: 0.3957 - val_accuracy: 0.8817\n",
      "Epoch 16/20\n",
      "38/38 - 314s - loss: 0.1870 - accuracy: 0.9375 - val_loss: 0.4264 - val_accuracy: 0.8833\n",
      "Epoch 17/20\n",
      "38/38 - 318s - loss: 0.1597 - accuracy: 0.9446 - val_loss: 0.3998 - val_accuracy: 0.8917\n",
      "Epoch 18/20\n",
      "38/38 - 308s - loss: 0.1764 - accuracy: 0.9379 - val_loss: 0.4376 - val_accuracy: 0.8850\n",
      "Epoch 19/20\n",
      "38/38 - 310s - loss: 0.1726 - accuracy: 0.9429 - val_loss: 0.3696 - val_accuracy: 0.8867\n",
      "Epoch 20/20\n",
      "38/38 - 312s - loss: 0.1750 - accuracy: 0.9408 - val_loss: 0.4270 - val_accuracy: 0.8933\n"
     ]
    }
   ],
   "source": [
    "# attempting to decrease validation loss with dropout regularization techniques\n",
    "from keras.layers import Dropout\n",
    "\n",
    "def build_dropout_CNN():\n",
    "    cnn = Sequential()\n",
    "    cnn.add(Conv2D(32, (3, 3), activation='relu', kernel_initializer='he_uniform', padding='same', input_shape=(299, 299, 3)))\n",
    "    cnn.add(MaxPooling2D((2, 2)))\n",
    "    cnn.add(Dropout(0.2))\n",
    "    cnn.add(Conv2D(64, (3, 3), activation='relu', kernel_initializer='he_uniform', padding='same'))\n",
    "    cnn.add(MaxPooling2D((2, 2)))\n",
    "    cnn.add(Dropout(0.2))\n",
    "    cnn.add(Conv2D(128, (3, 3), activation='relu', kernel_initializer='he_uniform', padding='same'))\n",
    "    cnn.add(MaxPooling2D((2, 2)))\n",
    "    cnn.add(Dropout(0.2))\n",
    "    cnn.add(Flatten())\n",
    "    cnn.add(Dense(128, activation='relu', kernel_initializer='he_uniform'))\n",
    "    cnn.add(Dropout(0.5))\n",
    "    cnn.add(Dense(64, activation='relu', kernel_initializer='he_uniform'))\n",
    "    cnn.add(Dropout(0.5))\n",
    "    cnn.add(Dense(3, activation='softmax'))\n",
    "    cnn.compile(optimizer=\"adam\", loss='categorical_crossentropy', metrics=['accuracy'])\n",
    "    return cnn\n",
    "\n",
    "dropout_model = build_dropout_CNN()\n",
    "\n",
    "dropout_history = dropout_model.fit_generator(\n",
    "    train_generator, \n",
    "    steps_per_epoch=len(train_generator),\n",
    "    validation_data=validation_generator, \n",
    "    validation_steps=len(validation_generator), \n",
    "    epochs=20, \n",
    "    verbose=2)"
   ]
  },
  {
   "cell_type": "code",
   "execution_count": 11,
   "id": "4962dc1d",
   "metadata": {},
   "outputs": [
    {
     "data": {
      "text/plain": [
       "Text(0.5, 1.0, 'Training and validation loss')"
      ]
     },
     "execution_count": 11,
     "metadata": {},
     "output_type": "execute_result"
    },
    {
     "data": {
      "image/png": "[encoded data removed]",
      "text/plain": [
       "<Figure size 432x288 with 1 Axes>"
      ]
     },
     "metadata": {
      "needs_background": "light"
     },
     "output_type": "display_data"
    },
    {
     "data": {
      "image/png": "[encoded data removed]",
      "text/plain": [
       "<Figure size 432x288 with 1 Axes>"
      ]
     },
     "metadata": {
      "needs_background": "light"
     },
     "output_type": "display_data"
    }
   ],
   "source": [
    "import matplotlib.pylab as plt\n",
    "\n",
    "dropout_acc = dropout_history.history['accuracy']\n",
    "dropout_val_acc = dropout_history.history['val_accuracy']\n",
    "\n",
    "# Retrieve a list of list results on training and validation data\n",
    "# sets for each training epoch\n",
    "dropout_loss = dropout_history.history['loss']\n",
    "dropout_val_loss = dropout_history.history['val_loss']\n",
    "\n",
    "# Get number of epochs\n",
    "dropout_epochs = range(len(dropout_acc))\n",
    "\n",
    "# Plot training and validation accuracy per epoch\n",
    "plt.plot(dropout_epochs, dropout_acc)\n",
    "plt.plot(dropout_epochs, dropout_val_acc)\n",
    "plt.title('Training and validation accuracy')\n",
    "\n",
    "plt.figure()\n",
    "\n",
    "# Plot training and validation loss per epoch\n",
    "plt.plot(dropout_epochs, dropout_loss)\n",
    "plt.plot(dropout_epochs, dropout_val_loss)\n",
    "plt.title('Training and validation loss')"
   ]
  },
  {
   "cell_type": "code",
   "execution_count": 14,
   "id": "9fb40726",
   "metadata": {},
   "outputs": [
    {
     "name": "stdout",
     "output_type": "stream",
     "text": [
      "Found 3000 images belonging to 3 classes.\n",
      "Epoch 1/20\n",
      "38/38 - 311s - loss: 11.8243 - accuracy: 0.4348\n",
      "Epoch 2/20\n",
      "38/38 - 302s - loss: 0.8231 - accuracy: 0.6287\n",
      "Epoch 3/20\n",
      "38/38 - 297s - loss: 0.6861 - accuracy: 0.7150\n",
      "Epoch 4/20\n",
      "38/38 - 292s - loss: 0.6234 - accuracy: 0.7413\n",
      "Epoch 5/20\n",
      "38/38 - 291s - loss: 0.5361 - accuracy: 0.7954\n",
      "Epoch 6/20\n",
      "38/38 - 297s - loss: 0.4739 - accuracy: 0.8094\n",
      "Epoch 7/20\n",
      "38/38 - 298s - loss: 0.4162 - accuracy: 0.8325\n",
      "Epoch 8/20\n",
      "38/38 - 296s - loss: 0.3473 - accuracy: 0.8684\n",
      "Epoch 9/20\n",
      "38/38 - 296s - loss: 0.3543 - accuracy: 0.8717\n",
      "Epoch 10/20\n",
      "38/38 - 295s - loss: 0.3265 - accuracy: 0.8754\n",
      "Epoch 11/20\n",
      "38/38 - 293s - loss: 0.2792 - accuracy: 0.8944\n",
      "Epoch 12/20\n",
      "38/38 - 295s - loss: 0.2657 - accuracy: 0.9022\n",
      "Epoch 13/20\n",
      "38/38 - 297s - loss: 0.2786 - accuracy: 0.9013\n",
      "Epoch 14/20\n",
      "38/38 - 303s - loss: 0.2381 - accuracy: 0.9134\n",
      "Epoch 15/20\n",
      "38/38 - 296s - loss: 0.2113 - accuracy: 0.9233\n",
      "Epoch 16/20\n",
      "38/38 - 298s - loss: 0.2198 - accuracy: 0.9183\n",
      "Epoch 17/20\n",
      "38/38 - 296s - loss: 0.2080 - accuracy: 0.9233\n",
      "Epoch 18/20\n",
      "38/38 - 302s - loss: 0.2002 - accuracy: 0.9290\n",
      "Epoch 19/20\n",
      "38/38 - 297s - loss: 0.1750 - accuracy: 0.9428\n",
      "Epoch 20/20\n",
      "38/38 - 297s - loss: 0.1740 - accuracy: 0.9354\n"
     ]
    }
   ],
   "source": [
    "#train on all 3000 data points\n",
    "\n",
    "final_train_datagen = ImageDataGenerator(rescale=1./255)\n",
    "\n",
    "final_train_generator = final_train_datagen.flow_from_directory(\n",
    "        finalize_model_dir,\n",
    "        target_size=(299, 299),\n",
    "        batch_size=64,\n",
    "        class_mode='categorical')\n",
    "\n",
    "final_model = build_dropout_CNN()\n",
    "final_history = final_model.fit_generator(\n",
    "    final_train_generator, \n",
    "    steps_per_epoch=len(train_generator), \n",
    "    epochs=20, \n",
    "    verbose=2)"
   ]
  },
  {
   "cell_type": "code",
   "execution_count": 49,
   "id": "5fb0de8e",
   "metadata": {},
   "outputs": [
    {
     "data": {
      "text/plain": [
       "Text(0.5, 1.0, 'Full image set loss')"
      ]
     },
     "execution_count": 49,
     "metadata": {},
     "output_type": "execute_result"
    },
    {
     "data": {
      "image/png": "[encoded data removed]",
      "text/plain": [
       "<Figure size 432x288 with 1 Axes>"
      ]
     },
     "metadata": {
      "needs_background": "light"
     },
     "output_type": "display_data"
    },
    {
     "data": {
      "image/png": "[encoded data removed]",
      "text/plain": [
       "<Figure size 432x288 with 1 Axes>"
      ]
     },
     "metadata": {
      "needs_background": "light"
     },
     "output_type": "display_data"
    }
   ],
   "source": [
    "final_acc = final_history.history['accuracy']\n",
    "\n",
    "# Retrieve a list of list results on training and validation data\n",
    "# sets for each training epoch\n",
    "final_loss = final_history.history['loss']\n",
    "\n",
    "# Get number of epochs\n",
    "final_epochs = range(len(final_acc))\n",
    "\n",
    "# Plot training and validation accuracy per epoch\n",
    "plt.plot(final_epochs, final_acc)\n",
    "plt.title('Full image set accuracy')\n",
    "\n",
    "plt.figure()\n",
    "\n",
    "# Plot training and validation loss per epoch\n",
    "plt.plot(final_epochs, final_loss)\n",
    "plt.title('Full image set loss')"
   ]
  },
  {
   "cell_type": "code",
   "execution_count": 23,
   "id": "de4cd5a0",
   "metadata": {},
   "outputs": [
    {
     "name": "stdout",
     "output_type": "stream",
     "text": [
      "Final model accuracy:  0.8833894278360721\n"
     ]
    }
   ],
   "source": [
    "# predict the entire data set to see how the model predicts as a whole\n",
    "from keras.preprocessing.image import load_img\n",
    "from keras.preprocessing.image import img_to_array\n",
    "\n",
    "# filename = all_covid_dir + '\\COVID-1' + '.png'\n",
    "# img = load_img(filename, target_size=(299, 299))\n",
    "# img = img_to_array(img)\n",
    "# img = img.reshape(1, 299, 299, 3)\n",
    "# img = img.astype('float32')\n",
    "# print(final_model.predict(img)[0])\n",
    "score = 0\n",
    "# covid images first\n",
    "for i in range(total_covid_files):\n",
    "    filename = all_covid_dir + '\\COVID-' + str(i+1) + '.png'\n",
    "    img = load_img(filename, target_size=(299, 299))\n",
    "    img = img_to_array(img)\n",
    "    img = img.reshape(1, 299, 299, 3)\n",
    "    img = img.astype('float32')\n",
    "    prediction = final_model.predict(img)[0]\n",
    "    if prediction[0] == 1:\n",
    "        score += 1\n",
    "# normal images second\n",
    "for i in range(total_normal_files):\n",
    "    filename = all_normal_dir + '\\\\Normal-' + str(i+1) + '.png'\n",
    "    img = load_img(filename, target_size=(299, 299))\n",
    "    img = img_to_array(img)\n",
    "    img = img.reshape(1, 299, 299, 3)\n",
    "    img = img.astype('float32')\n",
    "    prediction = final_model.predict(img)[0]\n",
    "    if prediction[1] == 1:\n",
    "        score += 1\n",
    "# pneumonia images third\n",
    "for i in range(total_pneumonia_files):\n",
    "    filename = all_pneumonia_dir + '\\Viral Pneumonia-' + str(i+1) + '.png'\n",
    "    img = load_img(filename, target_size=(299, 299))\n",
    "    img = img_to_array(img)\n",
    "    img = img.reshape(1, 299, 299, 3)\n",
    "    img = img.astype('float32')\n",
    "    prediction = final_model.predict(img)[0]\n",
    "    if prediction[2] == 1:\n",
    "        score += 1\n",
    "        \n",
    "accuracy = score/(total_covid_files + total_normal_files + total_pneumonia_files)\n",
    "print(\"Final model accuracy: \", accuracy)\n",
    "    "
   ]
  },
  {
   "cell_type": "code",
   "execution_count": 26,
   "id": "98ad09a6",
   "metadata": {},
   "outputs": [],
   "source": [
    "# begin model for binary classification\n",
    "#sample images of each type to be split into training and validation sets\n",
    "sample_size = 1000\n",
    "train_ratio = 0.8\n",
    "\n",
    "training_size = int(sample_size*train_ratio)\n",
    "valid_size = sample_size - training_size\n",
    "\n",
    "covid_train = list(np.random.choice(range(total_covid_files), sample_size, replace=False))\n",
    "normal_train = list(np.random.choice(range(total_normal_files), sample_size, replace=False))\n",
    "pneumonia_train = list(np.random.choice(range(total_pneumonia_files), sample_size, replace=False))\n",
    "covid_valid = []\n",
    "normal_valid = []\n",
    "pneumonia_valid = []\n",
    "\n",
    "for i in range(valid_size):\n",
    "    covid_index = np.random.choice(covid_train)\n",
    "    normal_index = np.random.choice(normal_train)\n",
    "    pneumonia_index = np.random.choice(pneumonia_train)\n",
    "    \n",
    "    covid_valid.append(covid_index)\n",
    "    covid_train.remove(covid_index)\n",
    "    normal_valid.append(normal_index)\n",
    "    normal_train.remove(normal_index)\n",
    "    pneumonia_valid.append(pneumonia_index)\n",
    "    pneumonia_train.remove(pneumonia_index)\n",
    "    \n",
    "for index in covid_train:\n",
    "    filename = all_covid_dir + '\\COVID-' + str(index+1) + '.png'\n",
    "    copy(filename, binary_covid_train_dir)\n",
    "    \n",
    "for index in covid_valid:\n",
    "    filename = all_covid_dir + '\\COVID-' + str(index+1) + '.png'\n",
    "    copy(filename, binary_covid_valid_dir)\n",
    "    \n",
    "for index in normal_train:\n",
    "    filename = all_normal_dir + '\\\\Normal-' + str(index+1) + '.png'\n",
    "    copy(filename, binary_non_covid_train_dir)\n",
    "    \n",
    "for index in normal_valid:\n",
    "    filename = all_normal_dir + '\\\\Normal-' + str(index+1) + '.png'\n",
    "    copy(filename, binary_non_covid_valid_dir)\n",
    "    \n",
    "for index in pneumonia_train:\n",
    "    filename = all_pneumonia_dir + '\\Viral Pneumonia-' + str(index+1) + '.png'\n",
    "    copy(filename, binary_non_covid_train_dir)\n",
    "    \n",
    "for index in pneumonia_valid:\n",
    "    filename = all_pneumonia_dir + '\\Viral Pneumonia-' + str(index+1) + '.png'\n",
    "    copy(filename, binary_non_covid_valid_dir)"
   ]
  },
  {
   "cell_type": "code",
   "execution_count": 31,
   "id": "11af402b",
   "metadata": {},
   "outputs": [
    {
     "name": "stdout",
     "output_type": "stream",
     "text": [
      "Found 2400 images belonging to 2 classes.\n",
      "Found 600 images belonging to 2 classes.\n"
     ]
    }
   ],
   "source": [
    "# Image pre-processing\n",
    "binary_train_datagen = ImageDataGenerator(rescale=1./255)\n",
    "binary_val_datagen = ImageDataGenerator(rescale=1./255)\n",
    "\n",
    "# Flow training images in batches using train_datagen generator\n",
    "binary_train_generator = train_datagen.flow_from_directory(\n",
    "        binary_train_dir,\n",
    "        target_size=(299, 299),\n",
    "        batch_size=64,\n",
    "        class_mode='binary')\n",
    "\n",
    "# Flow validation images in batches using val_datagen generator\n",
    "binary_validation_generator = val_datagen.flow_from_directory(\n",
    "        binary_valid_dir,\n",
    "        target_size=(299, 299),\n",
    "        batch_size=64,\n",
    "        class_mode='binary')"
   ]
  },
  {
   "cell_type": "code",
   "execution_count": 33,
   "id": "94990f39",
   "metadata": {},
   "outputs": [
    {
     "name": "stdout",
     "output_type": "stream",
     "text": [
      "Epoch 1/20\n",
      "38/38 - 281s - loss: 1.5171 - accuracy: 0.7392 - val_loss: 0.3769 - val_accuracy: 0.8300\n",
      "Epoch 2/20\n",
      "38/38 - 274s - loss: 0.2574 - accuracy: 0.8958 - val_loss: 0.2308 - val_accuracy: 0.9083\n",
      "Epoch 3/20\n",
      "38/38 - 272s - loss: 0.1747 - accuracy: 0.9354 - val_loss: 0.2363 - val_accuracy: 0.9067\n",
      "Epoch 4/20\n",
      "38/38 - 272s - loss: 0.1296 - accuracy: 0.9533 - val_loss: 0.2143 - val_accuracy: 0.9217\n",
      "Epoch 5/20\n",
      "38/38 - 272s - loss: 0.0886 - accuracy: 0.9658 - val_loss: 0.2313 - val_accuracy: 0.9217\n",
      "Epoch 6/20\n",
      "38/38 - 271s - loss: 0.0646 - accuracy: 0.9787 - val_loss: 0.2244 - val_accuracy: 0.9267\n",
      "Epoch 7/20\n",
      "38/38 - 273s - loss: 0.0365 - accuracy: 0.9917 - val_loss: 0.2988 - val_accuracy: 0.9200\n",
      "Epoch 8/20\n",
      "38/38 - 267s - loss: 0.0395 - accuracy: 0.9854 - val_loss: 0.2969 - val_accuracy: 0.9183\n",
      "Epoch 9/20\n",
      "38/38 - 272s - loss: 0.0184 - accuracy: 0.9967 - val_loss: 0.3438 - val_accuracy: 0.9250\n",
      "Epoch 10/20\n",
      "38/38 - 272s - loss: 0.0246 - accuracy: 0.9929 - val_loss: 0.2916 - val_accuracy: 0.9300\n",
      "Epoch 11/20\n",
      "38/38 - 270s - loss: 0.0328 - accuracy: 0.9900 - val_loss: 0.2719 - val_accuracy: 0.9183\n",
      "Epoch 12/20\n",
      "38/38 - 282s - loss: 0.0087 - accuracy: 0.9979 - val_loss: 0.3208 - val_accuracy: 0.9167\n",
      "Epoch 13/20\n",
      "38/38 - 267s - loss: 0.0109 - accuracy: 0.9987 - val_loss: 0.3203 - val_accuracy: 0.9383\n",
      "Epoch 14/20\n",
      "38/38 - 265s - loss: 0.0043 - accuracy: 0.9987 - val_loss: 0.3227 - val_accuracy: 0.9300\n",
      "Epoch 15/20\n",
      "38/38 - 265s - loss: 0.0014 - accuracy: 1.0000 - val_loss: 0.3559 - val_accuracy: 0.9300\n",
      "Epoch 16/20\n",
      "38/38 - 265s - loss: 5.6532e-04 - accuracy: 1.0000 - val_loss: 0.3554 - val_accuracy: 0.9383\n",
      "Epoch 17/20\n",
      "38/38 - 265s - loss: 2.2774e-04 - accuracy: 1.0000 - val_loss: 0.3619 - val_accuracy: 0.9367\n",
      "Epoch 18/20\n",
      "38/38 - 265s - loss: 1.6504e-04 - accuracy: 1.0000 - val_loss: 0.3787 - val_accuracy: 0.9400\n",
      "Epoch 19/20\n",
      "38/38 - 265s - loss: 1.4469e-04 - accuracy: 1.0000 - val_loss: 0.3923 - val_accuracy: 0.9367\n",
      "Epoch 20/20\n",
      "38/38 - 268s - loss: 1.1879e-04 - accuracy: 1.0000 - val_loss: 0.3877 - val_accuracy: 0.9400\n"
     ]
    }
   ],
   "source": [
    "# baseline binary CNN with no dropout\n",
    "def build_binary_CNN():\n",
    "    cnn = Sequential()\n",
    "    cnn.add(Conv2D(32, (3, 3), activation='relu', kernel_initializer='he_uniform', padding='same', input_shape=(299, 299, 3)))\n",
    "    cnn.add(MaxPooling2D((2, 2)))\n",
    "    cnn.add(Conv2D(64, (3, 3), activation='relu', kernel_initializer='he_uniform', padding='same'))\n",
    "    cnn.add(MaxPooling2D((2, 2)))\n",
    "    cnn.add(Conv2D(128, (3, 3), activation='relu', kernel_initializer='he_uniform', padding='same'))\n",
    "    cnn.add(MaxPooling2D((2, 2)))\n",
    "    cnn.add(Flatten())\n",
    "    cnn.add(Dense(128, activation='relu', kernel_initializer='he_uniform'))\n",
    "    cnn.add(Dense(64, activation='relu', kernel_initializer='he_uniform'))\n",
    "    cnn.add(Dense(1, activation='sigmoid'))\n",
    "    cnn.compile(optimizer=\"adam\", loss='binary_crossentropy', metrics=['accuracy'])\n",
    "    return cnn\n",
    "\n",
    "binary_test_model = build_binary_CNN()\n",
    "\n",
    "binary_history = binary_test_model.fit_generator(\n",
    "    binary_train_generator, \n",
    "    steps_per_epoch=len(binary_train_generator),\n",
    "    validation_data=binary_validation_generator, \n",
    "    validation_steps=len(binary_validation_generator), \n",
    "    epochs=20, \n",
    "    verbose=2)"
   ]
  },
  {
   "cell_type": "code",
   "execution_count": 34,
   "id": "f141c1ce",
   "metadata": {},
   "outputs": [
    {
     "data": {
      "text/plain": [
       "Text(0.5, 1.0, 'Training and validation loss')"
      ]
     },
     "execution_count": 34,
     "metadata": {},
     "output_type": "execute_result"
    },
    {
     "data": {
      "image/png": "[encoded data removed]",
      "text/plain": [
       "<Figure size 432x288 with 1 Axes>"
      ]
     },
     "metadata": {
      "needs_background": "light"
     },
     "output_type": "display_data"
    },
    {
     "data": {
      "image/png": "[encoded data removed]",
      "text/plain": [
       "<Figure size 432x288 with 1 Axes>"
      ]
     },
     "metadata": {
      "needs_background": "light"
     },
     "output_type": "display_data"
    }
   ],
   "source": [
    "# plots for binary classification with no dropout\n",
    "\n",
    "binary_acc = binary_history.history['accuracy']\n",
    "binary_val_acc = binary_history.history['val_accuracy']\n",
    "\n",
    "# Retrieve a list of list results on training and validation data\n",
    "# sets for each training epoch\n",
    "binary_loss = binary_history.history['loss']\n",
    "binary_val_loss = binary_history.history['val_loss']\n",
    "\n",
    "# Get number of epochs\n",
    "binary_epochs = range(len(binary_acc))\n",
    "\n",
    "# Plot training and validation accuracy per epoch\n",
    "plt.plot(binary_epochs, binary_acc)\n",
    "plt.plot(binary_epochs, binary_val_acc)\n",
    "plt.title('Training and validation accuracy')\n",
    "\n",
    "plt.figure()\n",
    "\n",
    "# Plot training and validation loss per epoch\n",
    "plt.plot(binary_epochs, binary_loss)\n",
    "plt.plot(binary_epochs, binary_val_loss)\n",
    "plt.title('Training and validation loss')\n"
   ]
  },
  {
   "cell_type": "code",
   "execution_count": 35,
   "id": "2a9986e0",
   "metadata": {},
   "outputs": [
    {
     "name": "stdout",
     "output_type": "stream",
     "text": [
      "Epoch 1/20\n",
      "38/38 - 279s - loss: 2.0030 - accuracy: 0.7525 - val_loss: 0.3416 - val_accuracy: 0.8467\n",
      "Epoch 2/20\n",
      "38/38 - 274s - loss: 0.2662 - accuracy: 0.8863 - val_loss: 0.2338 - val_accuracy: 0.9050\n",
      "Epoch 3/20\n",
      "38/38 - 274s - loss: 0.2048 - accuracy: 0.9200 - val_loss: 0.2176 - val_accuracy: 0.9117\n",
      "Epoch 4/20\n",
      "38/38 - 268s - loss: 0.1161 - accuracy: 0.9583 - val_loss: 0.2002 - val_accuracy: 0.9200\n",
      "Epoch 5/20\n",
      "38/38 - 266s - loss: 0.0784 - accuracy: 0.9725 - val_loss: 0.1979 - val_accuracy: 0.9367\n",
      "Epoch 6/20\n",
      "38/38 - 265s - loss: 0.0539 - accuracy: 0.9804 - val_loss: 0.2193 - val_accuracy: 0.9233\n",
      "Epoch 7/20\n",
      "38/38 - 266s - loss: 0.0297 - accuracy: 0.9921 - val_loss: 0.2626 - val_accuracy: 0.9250\n",
      "Epoch 8/20\n",
      "38/38 - 267s - loss: 0.0226 - accuracy: 0.9933 - val_loss: 0.2745 - val_accuracy: 0.9217\n",
      "Epoch 9/20\n",
      "38/38 - 267s - loss: 0.0245 - accuracy: 0.9917 - val_loss: 0.2042 - val_accuracy: 0.9433\n",
      "Epoch 10/20\n",
      "38/38 - 268s - loss: 0.0760 - accuracy: 0.9704 - val_loss: 0.3084 - val_accuracy: 0.8950\n",
      "Epoch 11/20\n",
      "38/38 - 270s - loss: 0.0874 - accuracy: 0.9679 - val_loss: 0.2796 - val_accuracy: 0.9050\n",
      "Epoch 12/20\n",
      "38/38 - 271s - loss: 0.0356 - accuracy: 0.9858 - val_loss: 0.2879 - val_accuracy: 0.9233\n",
      "Epoch 13/20\n",
      "38/38 - 271s - loss: 0.0221 - accuracy: 0.9946 - val_loss: 0.3198 - val_accuracy: 0.9250\n",
      "Epoch 14/20\n",
      "38/38 - 275s - loss: 0.0201 - accuracy: 0.9937 - val_loss: 0.3051 - val_accuracy: 0.9333\n",
      "Epoch 15/20\n",
      "38/38 - 275s - loss: 0.0074 - accuracy: 0.9971 - val_loss: 0.3661 - val_accuracy: 0.9233\n",
      "Epoch 16/20\n",
      "38/38 - 267s - loss: 0.0085 - accuracy: 0.9975 - val_loss: 0.3113 - val_accuracy: 0.9400\n",
      "Epoch 17/20\n",
      "38/38 - 265s - loss: 0.0018 - accuracy: 0.9996 - val_loss: 0.3457 - val_accuracy: 0.9333\n",
      "Epoch 18/20\n",
      "38/38 - 269s - loss: 6.6072e-04 - accuracy: 1.0000 - val_loss: 0.3658 - val_accuracy: 0.9367\n",
      "Epoch 19/20\n",
      "38/38 - 266s - loss: 3.1824e-04 - accuracy: 1.0000 - val_loss: 0.3678 - val_accuracy: 0.9317\n",
      "Epoch 20/20\n",
      "38/38 - 266s - loss: 2.2779e-04 - accuracy: 1.0000 - val_loss: 0.3789 - val_accuracy: 0.9333\n"
     ]
    }
   ],
   "source": [
    "# binary classification with dropout regularization\n",
    "def build_binary_dropout_CNN():\n",
    "    cnn = Sequential()\n",
    "    cnn.add(Conv2D(32, (3, 3), activation='relu', kernel_initializer='he_uniform', padding='same', input_shape=(299, 299, 3)))\n",
    "    cnn.add(MaxPooling2D((2, 2)))\n",
    "    cnn.add(Dropout(0.2))\n",
    "    cnn.add(Conv2D(64, (3, 3), activation='relu', kernel_initializer='he_uniform', padding='same'))\n",
    "    cnn.add(MaxPooling2D((2, 2)))\n",
    "    cnn.add(Dropout(0.2))\n",
    "    cnn.add(Conv2D(128, (3, 3), activation='relu', kernel_initializer='he_uniform', padding='same'))\n",
    "    cnn.add(MaxPooling2D((2, 2)))\n",
    "    cnn.add(Dropout(0.2))\n",
    "    cnn.add(Flatten())\n",
    "    cnn.add(Dense(128, activation='relu', kernel_initializer='he_uniform'))\n",
    "    cnn.add(Dropout(0.5))\n",
    "    cnn.add(Dense(64, activation='relu', kernel_initializer='he_uniform'))\n",
    "    cnn.add(Dropout(0.5))\n",
    "    cnn.add(Dense(1, activation='sigmoid'))\n",
    "    cnn.compile(optimizer=\"adam\", loss='binary_crossentropy', metrics=['accuracy'])\n",
    "    return cnn\n",
    "\n",
    "binary_dropout_model = build_binary_CNN()\n",
    "\n",
    "binary_dropout_history = binary_dropout_model.fit_generator(\n",
    "    binary_train_generator, \n",
    "    steps_per_epoch=len(binary_train_generator),\n",
    "    validation_data=binary_validation_generator, \n",
    "    validation_steps=len(binary_validation_generator), \n",
    "    epochs=20, \n",
    "    verbose=2)\n"
   ]
  },
  {
   "cell_type": "code",
   "execution_count": 37,
   "id": "bab33553",
   "metadata": {
    "scrolled": true
   },
   "outputs": [
    {
     "data": {
      "text/plain": [
       "Text(0.5, 1.0, 'Training and validation loss')"
      ]
     },
     "execution_count": 37,
     "metadata": {},
     "output_type": "execute_result"
    },
    {
     "data": {
      "image/png": "[encoded data removed]",
      "text/plain": [
       "<Figure size 432x288 with 1 Axes>"
      ]
     },
     "metadata": {
      "needs_background": "light"
     },
     "output_type": "display_data"
    },
    {
     "data": {
      "image/png": "[encoded data removed]",
      "text/plain": [
       "<Figure size 432x288 with 1 Axes>"
      ]
     },
     "metadata": {
      "needs_background": "light"
     },
     "output_type": "display_data"
    }
   ],
   "source": [
    "# plots for binary classification with droput regularization\n",
    "binary_dropout_acc = binary_dropout_history.history['accuracy']\n",
    "binary_dropout_val_acc = binary_dropout_history.history['val_accuracy']\n",
    "\n",
    "# Retrieve a list of list results on training and validation data\n",
    "# sets for each training epoch\n",
    "binary_dropout_loss = binary_dropout_history.history['loss']\n",
    "binary_dropout_val_loss = binary_dropout_history.history['val_loss']\n",
    "\n",
    "# Get number of epochs\n",
    "binary_dropout_epochs = range(len(binary_dropout_acc))\n",
    "\n",
    "# Plot training and validation accuracy per epoch\n",
    "plt.plot(binary_dropout_epochs, binary_dropout_acc)\n",
    "plt.plot(binary_dropout_epochs, binary_dropout_val_acc)\n",
    "plt.title('Training and validation accuracy')\n",
    "\n",
    "plt.figure()\n",
    "\n",
    "# Plot training and validation loss per epoch\n",
    "plt.plot(binary_dropout_epochs, binary_dropout_loss)\n",
    "plt.plot(binary_dropout_epochs, binary_dropout_val_loss)\n",
    "plt.title('Training and validation loss')"
   ]
  },
  {
   "cell_type": "code",
   "execution_count": 40,
   "id": "0d86a399",
   "metadata": {},
   "outputs": [
    {
     "name": "stdout",
     "output_type": "stream",
     "text": [
      "Found 3000 images belonging to 2 classes.\n",
      "Epoch 1/20\n",
      "47/47 - 386s - loss: 6.6516 - accuracy: 0.6320\n",
      "Epoch 2/20\n",
      "47/47 - 368s - loss: 0.4960 - accuracy: 0.7157\n",
      "Epoch 3/20\n",
      "47/47 - 364s - loss: 0.4133 - accuracy: 0.7827\n",
      "Epoch 4/20\n",
      "47/47 - 373s - loss: 0.3557 - accuracy: 0.8313\n",
      "Epoch 5/20\n",
      "47/47 - 376s - loss: 0.3064 - accuracy: 0.8660\n",
      "Epoch 6/20\n",
      "47/47 - 362s - loss: 0.2692 - accuracy: 0.8803\n",
      "Epoch 7/20\n",
      "47/47 - 364s - loss: 0.2595 - accuracy: 0.8947\n",
      "Epoch 8/20\n",
      "47/47 - 366s - loss: 0.2190 - accuracy: 0.9133\n",
      "Epoch 9/20\n",
      "47/47 - 377s - loss: 0.1965 - accuracy: 0.9207\n",
      "Epoch 10/20\n",
      "47/47 - 375s - loss: 0.2008 - accuracy: 0.9130\n",
      "Epoch 11/20\n",
      "47/47 - 372s - loss: 0.1980 - accuracy: 0.9160\n",
      "Epoch 12/20\n",
      "47/47 - 374s - loss: 0.1511 - accuracy: 0.9407\n",
      "Epoch 13/20\n",
      "47/47 - 376s - loss: 0.1464 - accuracy: 0.9433\n",
      "Epoch 14/20\n",
      "47/47 - 381s - loss: 0.1438 - accuracy: 0.9413\n",
      "Epoch 15/20\n",
      "47/47 - 376s - loss: 0.1347 - accuracy: 0.9487\n",
      "Epoch 16/20\n",
      "47/47 - 376s - loss: 0.1311 - accuracy: 0.9503\n",
      "Epoch 17/20\n",
      "47/47 - 373s - loss: 0.1108 - accuracy: 0.9577\n",
      "Epoch 18/20\n",
      "47/47 - 375s - loss: 0.1427 - accuracy: 0.9440\n",
      "Epoch 19/20\n",
      "47/47 - 375s - loss: 0.1082 - accuracy: 0.9617\n",
      "Epoch 20/20\n",
      "47/47 - 375s - loss: 0.0947 - accuracy: 0.9613\n"
     ]
    }
   ],
   "source": [
    "# final binary model fit on entire set\n",
    "final_binary_datagen = ImageDataGenerator(rescale=1./255)\n",
    "\n",
    "final_binary_generator = final_binary_datagen.flow_from_directory(\n",
    "        finalize_binary_dir,\n",
    "        target_size=(299, 299),\n",
    "        batch_size=64,\n",
    "        class_mode='binary')\n",
    "\n",
    "final_binary = build_binary_dropout_CNN()\n",
    "final_binary_history = final_binary.fit_generator(\n",
    "    final_binary_generator, \n",
    "    steps_per_epoch=len(final_binary_generator), \n",
    "    epochs=20, \n",
    "    verbose=2)"
   ]
  },
  {
   "cell_type": "code",
   "execution_count": 48,
   "id": "691b6720",
   "metadata": {},
   "outputs": [
    {
     "data": {
      "text/plain": [
       "Text(0.5, 1.0, 'Full image set loss')"
      ]
     },
     "execution_count": 48,
     "metadata": {},
     "output_type": "execute_result"
    },
    {
     "data": {
      "image/png": "[encoded data removed]",
      "text/plain": [
       "<Figure size 432x288 with 1 Axes>"
      ]
     },
     "metadata": {
      "needs_background": "light"
     },
     "output_type": "display_data"
    },
    {
     "data": {
      "image/png": "[encoded data removed]",
      "text/plain": [
       "<Figure size 432x288 with 1 Axes>"
      ]
     },
     "metadata": {
      "needs_background": "light"
     },
     "output_type": "display_data"
    }
   ],
   "source": [
    "final_binary_acc = final_binary_history.history['accuracy']\n",
    "\n",
    "# Retrieve a list of list results on training and validation data\n",
    "# sets for each training epoch\n",
    "final_binary_loss = final_binary_history.history['loss']\n",
    "\n",
    "# Get number of epochs\n",
    "final_binary_epochs = range(len(final_binary_acc))\n",
    "\n",
    "# Plot training and validation accuracy per epoch\n",
    "plt.plot(final_binary_epochs, final_binary_acc)\n",
    "plt.title('Full image set accuracy')\n",
    "\n",
    "plt.figure()\n",
    "\n",
    "# Plot training and validation loss per epoch\n",
    "plt.plot(final_binary_epochs, final_binary_loss)\n",
    "plt.title('Full image set loss')"
   ]
  },
  {
   "cell_type": "code",
   "execution_count": 43,
   "id": "ce808cf4",
   "metadata": {},
   "outputs": [
    {
     "name": "stdout",
     "output_type": "stream",
     "text": [
      "[[0.]]\n"
     ]
    }
   ],
   "source": [
    "filename = all_covid_dir + '\\COVID-1' + '.png'\n",
    "img = load_img(filename, target_size=(299, 299))\n",
    "img = img_to_array(img)\n",
    "img = img.reshape(1, 299, 299, 3)\n",
    "img = img.astype('float32')\n",
    "print(final_binary.predict(img))"
   ]
  },
  {
   "cell_type": "code",
   "execution_count": 44,
   "id": "68ca4af0",
   "metadata": {},
   "outputs": [
    {
     "name": "stdout",
     "output_type": "stream",
     "text": [
      "Final binary model accuracy:  0.9029235134956775\n"
     ]
    }
   ],
   "source": [
    "score = 0\n",
    "# covid images first\n",
    "for i in range(total_covid_files):\n",
    "    filename = all_covid_dir + '\\COVID-' + str(i+1) + '.png'\n",
    "    img = load_img(filename, target_size=(299, 299))\n",
    "    img = img_to_array(img)\n",
    "    img = img.reshape(1, 299, 299, 3)\n",
    "    img = img.astype('float32')\n",
    "    prediction = final_binary.predict(img)[0]\n",
    "    if prediction[0] == 0:\n",
    "        score += 1\n",
    "# normal images second\n",
    "for i in range(total_normal_files):\n",
    "    filename = all_normal_dir + '\\\\Normal-' + str(i+1) + '.png'\n",
    "    img = load_img(filename, target_size=(299, 299))\n",
    "    img = img_to_array(img)\n",
    "    img = img.reshape(1, 299, 299, 3)\n",
    "    img = img.astype('float32')\n",
    "    prediction = final_binary.predict(img)[0]\n",
    "    if prediction[0] == 1:\n",
    "        score += 1\n",
    "# pneumonia images third\n",
    "for i in range(total_pneumonia_files):\n",
    "    filename = all_pneumonia_dir + '\\Viral Pneumonia-' + str(i+1) + '.png'\n",
    "    img = load_img(filename, target_size=(299, 299))\n",
    "    img = img_to_array(img)\n",
    "    img = img.reshape(1, 299, 299, 3)\n",
    "    img = img.astype('float32')\n",
    "    prediction = final_binary.predict(img)[0]\n",
    "    if prediction[0] == 1:\n",
    "        score += 1\n",
    "        \n",
    "accuracy = score/(total_covid_files + total_normal_files + total_pneumonia_files)\n",
    "print(\"Final binary model accuracy: \", accuracy)"
   ]
  },
  {
   "cell_type": "code",
   "execution_count": null,
   "id": "0295d084",
   "metadata": {},
   "outputs": [],
   "source": []
  }
 ],
 "metadata": {
  "kernelspec": {
   "display_name": "Python 3",
   "language": "python",
   "name": "python3"
  },
  "language_info": {
   "codemirror_mode": {
    "name": "ipython",
    "version": 3
   },
   "file_extension": ".py",
   "mimetype": "text/x-python",
   "name": "python",
   "nbconvert_exporter": "python",
   "pygments_lexer": "ipython3",
   "version": "3.8.8"
  }
 },
 "nbformat": 4,
 "nbformat_minor": 5
}
