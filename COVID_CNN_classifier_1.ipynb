{
 "cells": [
  {
   "cell_type": "code",
   "execution_count": 2,
   "id": "44071269",
   "metadata": {},
   "outputs": [],
   "source": [
    "#count number of image types\n",
    "import os\n",
    "import numpy as np\n",
    "\n",
    "root_dir = os.getcwd()\n",
    "total_covid_files = 0\n",
    "total_normal_files = 0\n",
    "total_pneumonia_files = 0\n",
    "\n",
    "for base, dirs, files in os.walk(root_dir + '/COVID'):\n",
    "    for Files in files:\n",
    "        total_covid_files += 1\n",
    "        \n",
    "for base, dirs, files in os.walk(root_dir + '/Normal'):\n",
    "    for Files in files:\n",
    "        total_normal_files += 1\n",
    "\n",
    "for base, dirs, files in os.walk(root_dir + '/Viral Pneumonia'):\n",
    "    for Files in files:\n",
    "        total_pneumonia_files += 1\n"
   ]
  },
  {
   "cell_type": "code",
   "execution_count": 3,
   "id": "0ce52ecb",
   "metadata": {},
   "outputs": [],
   "source": [
    "#establish root, training and validation directories for image types\n",
    "all_covid_dir = os.path.join(root_dir, 'COVID')\n",
    "all_normal_dir = os.path.join(root_dir, 'Normal')\n",
    "all_pneumonia_dir = os.path.join(root_dir, 'Viral Pneumonia')\n",
    "\n",
    "train_dir = os.path.join(root_dir, 'train_imgs')\n",
    "valid_dir = os.path.join(root_dir, 'valid_imgs')\n",
    "\n",
    "train_covid_dir = os.path.join(train_dir, 'COVID')\n",
    "train_normal_dir = os.path.join(train_dir, 'Normal')\n",
    "train_pneumonia_dir = os.path.join(train_dir, 'Viral Pneumonia')\n",
    "valid_covid_dir = os.path.join(valid_dir, 'COVID')\n",
    "valid_normal_dir = os.path.join(valid_dir, 'Normal')\n",
    "valid_pneumonia_dir = os.path.join(valid_dir, 'Viral Pneumonia')"
   ]
  },
  {
   "cell_type": "code",
   "execution_count": 4,
   "id": "974d7ddc",
   "metadata": {},
   "outputs": [],
   "source": [
    "import cv2\n",
    "import random\n",
    "cv_filename = all_covid_dir + '\\COVID-' + str(1) + '.png'\n",
    "image = cv2.imread(cv_filename)\n",
    "\n",
    "ss = cv2.ximgproc.segmentation.createSelectiveSearchSegmentation()\n",
    "ss.setBaseImage(image)\n",
    "\n",
    "ss.switchToSelectiveSearchFast()\n",
    "rects = ss.process()\n",
    "\n",
    "# loop over the region proposals in chunks (so we can better\n",
    "# visualize them)\n",
    "for i in range(0, len(rects), 100):\n",
    "\t# clone the original image so we can draw on it\n",
    "\toutput = image.copy()\n",
    "\t# loop over the current subset of region proposals\n",
    "\tfor (x, y, w, h) in rects[i:i + 100]:\n",
    "\t\t# draw the region proposal bounding box on the image\n",
    "\t\tcolor = [random.randint(0, 255) for j in range(0, 3)]\n",
    "\t\tcv2.rectangle(output, (x, y), (x + w, y + h), color, 2)\n",
    "\t# show the output image\n",
    "\tcv2.imshow(\"Output\", output)\n",
    "\tkey = cv2.waitKey(0) & 0xFF\n",
    "\t# if the `q` key was pressed, break from the loop\n",
    "\tif key == ord(\"q\"):\n",
    "\t\tbreak"
   ]
  },
  {
   "cell_type": "code",
   "execution_count": 91,
   "id": "5562a3c6",
   "metadata": {},
   "outputs": [],
   "source": [
    "#sample images of each type to be split into training and validation sets\n",
    "sample_size = 1000\n",
    "train_ratio = 0.8\n",
    "\n",
    "training_size = int(sample_size*train_ratio)\n",
    "valid_size = sample_size - training_size\n",
    "\n",
    "covid_train = list(np.random.choice(range(total_covid_files), sample_size, replace=False))\n",
    "normal_train = list(np.random.choice(range(total_normal_files), sample_size, replace=False))\n",
    "pneumonia_train = list(np.random.choice(range(total_pneumonia_files), sample_size, replace=False))\n",
    "covid_valid = []\n",
    "normal_valid = []\n",
    "pneumonia_valid = []\n",
    "\n",
    "for i in range(valid_size):\n",
    "    covid_index = np.random.choice(covid_train)\n",
    "    normal_index = np.random.choice(normal_train)\n",
    "    pneumonia_index = np.random.choice(pneumonia_train)\n",
    "    \n",
    "    covid_valid.append(covid_index)\n",
    "    covid_train.remove(covid_index)\n",
    "    normal_valid.append(normal_index)\n",
    "    normal_train.remove(normal_index)\n",
    "    pneumonia_valid.append(pneumonia_index)\n",
    "    pneumonia_train.remove(pneumonia_index)\n",
    "\n",
    "from shutil import copy\n",
    "\n",
    "for index in covid_train:\n",
    "    filename = all_covid_dir + '\\COVID-' + str(index+1) + '.png'\n",
    "    copy(filename, train_covid_dir)\n",
    "    \n",
    "for index in covid_valid:\n",
    "    filename = all_covid_dir + '\\COVID-' + str(index+1) + '.png'\n",
    "    copy(filename, valid_covid_dir)\n",
    "    \n",
    "for index in normal_train:\n",
    "    filename = all_normal_dir + '\\\\Normal-' + str(index+1) + '.png'\n",
    "    copy(filename, train_normal_dir)\n",
    "    \n",
    "for index in normal_valid:\n",
    "    filename = all_normal_dir + '\\\\Normal-' + str(index+1) + '.png'\n",
    "    copy(filename, valid_normal_dir)\n",
    "    \n",
    "for index in pneumonia_train:\n",
    "    filename = all_pneumonia_dir + '\\Viral Pneumonia-' + str(index+1) + '.png'\n",
    "    copy(filename, train_pneumonia_dir)\n",
    "    \n",
    "for index in pneumonia_valid:\n",
    "    filename = all_pneumonia_dir + '\\Viral Pneumonia-' + str(index+1) + '.png'\n",
    "    copy(filename, valid_pneumonia_dir)\n",
    "\n",
    "    "
   ]
  },
  {
   "cell_type": "code",
   "execution_count": 97,
   "id": "60fca7de",
   "metadata": {},
   "outputs": [
    {
     "name": "stdout",
     "output_type": "stream",
     "text": [
      "Found 2400 images belonging to 3 classes.\n",
      "Found 600 images belonging to 3 classes.\n"
     ]
    }
   ],
   "source": [
    "# Image pre-processing\n",
    "train_datagen = ImageDataGenerator(rescale=1./255)\n",
    "val_datagen = ImageDataGenerator(rescale=1./255)\n",
    "\n",
    "# Flow training images in batches using train_datagen generator\n",
    "train_generator = train_datagen.flow_from_directory(\n",
    "        train_dir,\n",
    "        target_size=(299, 299),\n",
    "        batch_size=64,\n",
    "        class_mode='categorical')\n",
    "\n",
    "# Flow validation images in batches using val_datagen generator\n",
    "validation_generator = val_datagen.flow_from_directory(\n",
    "        valid_dir,\n",
    "        target_size=(299, 299),\n",
    "        batch_size=64,\n",
    "        class_mode='categorical')"
   ]
  },
  {
   "cell_type": "code",
   "execution_count": 4,
   "id": "25099bd1",
   "metadata": {},
   "outputs": [
    {
     "name": "stdout",
     "output_type": "stream",
     "text": [
      "Model: \"sequential\"\n",
      "_________________________________________________________________\n",
      "Layer (type)                 Output Shape              Param #   \n",
      "=================================================================\n",
      "conv2d (Conv2D)              (None, 299, 299, 32)      896       \n",
      "_________________________________________________________________\n",
      "max_pooling2d (MaxPooling2D) (None, 149, 149, 32)      0         \n",
      "_________________________________________________________________\n",
      "conv2d_1 (Conv2D)            (None, 149, 149, 64)      18496     \n",
      "_________________________________________________________________\n",
      "max_pooling2d_1 (MaxPooling2 (None, 74, 74, 64)        0         \n",
      "_________________________________________________________________\n",
      "conv2d_2 (Conv2D)            (None, 74, 74, 128)       73856     \n",
      "_________________________________________________________________\n",
      "max_pooling2d_2 (MaxPooling2 (None, 37, 37, 128)       0         \n",
      "_________________________________________________________________\n",
      "flatten (Flatten)            (None, 175232)            0         \n",
      "_________________________________________________________________\n",
      "dense (Dense)                (None, 128)               22429824  \n",
      "_________________________________________________________________\n",
      "dense_1 (Dense)              (None, 64)                8256      \n",
      "_________________________________________________________________\n",
      "dense_2 (Dense)              (None, 3)                 195       \n",
      "=================================================================\n",
      "Total params: 22,531,523\n",
      "Trainable params: 22,531,523\n",
      "Non-trainable params: 0\n",
      "_________________________________________________________________\n"
     ]
    }
   ],
   "source": [
    "# Binary CNN classifier using VGG model blocks\n",
    "\n",
    "import sys\n",
    "from keras.utils import to_categorical\n",
    "from keras.models import Sequential\n",
    "from keras.layers import Conv2D\n",
    "from keras.layers import MaxPooling2D\n",
    "from keras.layers import Dense\n",
    "from keras.layers import Flatten\n",
    "from keras.optimizers import Adam\n",
    "from keras.preprocessing.image import ImageDataGenerator\n",
    "\n",
    "\n",
    "def build_CNN():\n",
    "    cnn = Sequential()\n",
    "    cnn.add(Conv2D(32, (3, 3), activation='relu', kernel_initializer='he_uniform', padding='same', input_shape=(299, 299, 3)))\n",
    "    cnn.add(MaxPooling2D((2, 2)))\n",
    "    cnn.add(Conv2D(64, (3, 3), activation='relu', kernel_initializer='he_uniform', padding='same'))\n",
    "    cnn.add(MaxPooling2D((2, 2)))\n",
    "    cnn.add(Conv2D(128, (3, 3), activation='relu', kernel_initializer='he_uniform', padding='same'))\n",
    "    cnn.add(MaxPooling2D((2, 2)))\n",
    "    cnn.add(Flatten())\n",
    "    cnn.add(Dense(128, activation='relu', kernel_initializer='he_uniform'))\n",
    "    cnn.add(Dense(64, activation='relu', kernel_initializer='he_uniform'))\n",
    "    cnn.add(Dense(3, activation='softmax'))\n",
    "    cnn.compile(optimizer=\"adam\", loss='categorical_crossentropy', metrics=['accuracy'])\n",
    "    return cnn\n",
    "\n",
    "test_model = build_CNN()\n",
    "test_model.summary()"
   ]
  },
  {
   "cell_type": "code",
   "execution_count": 101,
   "id": "868d367c",
   "metadata": {},
   "outputs": [
    {
     "name": "stdout",
     "output_type": "stream",
     "text": [
      "Epoch 1/20\n",
      "38/38 - 290s - loss: 4.2412 - accuracy: 0.6562 - val_loss: 0.3820 - val_accuracy: 0.8350\n",
      "Epoch 2/20\n",
      "38/38 - 278s - loss: 0.3275 - accuracy: 0.8763 - val_loss: 0.3193 - val_accuracy: 0.8867\n",
      "Epoch 3/20\n",
      "38/38 - 277s - loss: 0.2185 - accuracy: 0.9192 - val_loss: 0.2991 - val_accuracy: 0.8950\n",
      "Epoch 4/20\n",
      "38/38 - 284s - loss: 0.1474 - accuracy: 0.9446 - val_loss: 0.2724 - val_accuracy: 0.8983\n",
      "Epoch 5/20\n",
      "38/38 - 277s - loss: 0.0958 - accuracy: 0.9650 - val_loss: 0.3216 - val_accuracy: 0.8900\n",
      "Epoch 6/20\n",
      "38/38 - 280s - loss: 0.0686 - accuracy: 0.9771 - val_loss: 0.3405 - val_accuracy: 0.8967\n",
      "Epoch 7/20\n",
      "38/38 - 277s - loss: 0.0352 - accuracy: 0.9896 - val_loss: 0.3682 - val_accuracy: 0.9083\n",
      "Epoch 8/20\n",
      "38/38 - 278s - loss: 0.0160 - accuracy: 0.9946 - val_loss: 0.3816 - val_accuracy: 0.9067\n",
      "Epoch 9/20\n",
      "38/38 - 274s - loss: 0.0124 - accuracy: 0.9971 - val_loss: 0.3641 - val_accuracy: 0.9150\n",
      "Epoch 10/20\n",
      "38/38 - 279s - loss: 0.0076 - accuracy: 0.9996 - val_loss: 0.5369 - val_accuracy: 0.8933\n",
      "Epoch 11/20\n",
      "38/38 - 273s - loss: 0.0293 - accuracy: 0.9908 - val_loss: 0.4446 - val_accuracy: 0.9033\n",
      "Epoch 12/20\n",
      "38/38 - 272s - loss: 0.0365 - accuracy: 0.9892 - val_loss: 0.3579 - val_accuracy: 0.9183\n",
      "Epoch 13/20\n",
      "38/38 - 275s - loss: 0.0227 - accuracy: 0.9925 - val_loss: 0.3701 - val_accuracy: 0.9033\n",
      "Epoch 14/20\n",
      "38/38 - 269s - loss: 0.0186 - accuracy: 0.9954 - val_loss: 0.4071 - val_accuracy: 0.9200\n",
      "Epoch 15/20\n",
      "38/38 - 275s - loss: 0.0074 - accuracy: 0.9983 - val_loss: 0.4569 - val_accuracy: 0.9217\n",
      "Epoch 16/20\n",
      "38/38 - 272s - loss: 0.0041 - accuracy: 0.9987 - val_loss: 0.4995 - val_accuracy: 0.9200\n",
      "Epoch 17/20\n",
      "38/38 - 276s - loss: 0.0014 - accuracy: 0.9996 - val_loss: 0.5659 - val_accuracy: 0.9100\n",
      "Epoch 18/20\n",
      "38/38 - 295s - loss: 0.0068 - accuracy: 0.9979 - val_loss: 0.5687 - val_accuracy: 0.9017\n",
      "Epoch 19/20\n",
      "38/38 - 289s - loss: 0.0337 - accuracy: 0.9892 - val_loss: 0.4673 - val_accuracy: 0.9083\n",
      "Epoch 20/20\n",
      "38/38 - 299s - loss: 0.0136 - accuracy: 0.9962 - val_loss: 0.4510 - val_accuracy: 0.9150\n"
     ]
    }
   ],
   "source": [
    "# fit the model\n",
    "# history = model.fit_generator(\n",
    "#       train_generator,\n",
    "#       steps_per_epoch=100,  # 2000 images = batch_size * steps\n",
    "#       epochs=15,\n",
    "#       validation_data=validation_generator,\n",
    "#       validation_steps=50,  # 1000 images = batch_size * steps\n",
    "#       verbose=2)\n",
    "\n",
    "history = test_model.fit_generator(\n",
    "    train_generator, \n",
    "    steps_per_epoch=len(train_generator),\n",
    "    validation_data=validation_generator, \n",
    "    validation_steps=len(validation_generator), \n",
    "    epochs=20, \n",
    "    verbose=2)"
   ]
  },
  {
   "cell_type": "code",
   "execution_count": 103,
   "id": "f51e19fd",
   "metadata": {},
   "outputs": [
    {
     "data": {
      "text/plain": [
       "Text(0.5, 1.0, 'Training and validation loss')"
      ]
     },
     "execution_count": 103,
     "metadata": {},
     "output_type": "execute_result"
    },
    {
     "data": {
      "image/png": "[encoded data removed]",
      "text/plain": [
       "<Figure size 432x288 with 1 Axes>"
      ]
     },
     "metadata": {
      "needs_background": "light"
     },
     "output_type": "display_data"
    },
    {
     "data": {
      "image/png": "[encoded data removed]",
      "text/plain": [
       "<Figure size 432x288 with 1 Axes>"
      ]
     },
     "metadata": {
      "needs_background": "light"
     },
     "output_type": "display_data"
    }
   ],
   "source": [
    "# Retrieve a list of accuracy results on training and validation data\n",
    "# sets for each training epoch\n",
    "acc = history.history['accuracy']\n",
    "val_acc = history.history['val_accuracy']\n",
    "\n",
    "# Retrieve a list of list results on training and validation data\n",
    "# sets for each training epoch\n",
    "loss = history.history['loss']\n",
    "val_loss = history.history['val_loss']\n",
    "\n",
    "# Get number of epochs\n",
    "epochs = range(len(acc))\n",
    "\n",
    "# Plot training and validation accuracy per epoch\n",
    "plt.plot(epochs, acc)\n",
    "plt.plot(epochs, val_acc)\n",
    "plt.title('Training and validation accuracy')\n",
    "\n",
    "plt.figure()\n",
    "\n",
    "# Plot training and validation loss per epoch\n",
    "plt.plot(epochs, loss)\n",
    "plt.plot(epochs, val_loss)\n",
    "plt.title('Training and validation loss')"
   ]
  },
  {
   "cell_type": "code",
   "execution_count": 108,
   "id": "fe1a94e8",
   "metadata": {},
   "outputs": [
    {
     "name": "stdout",
     "output_type": "stream",
     "text": [
      "Epoch 1/20\n",
      "38/38 - 324s - loss: 13.1919 - accuracy: 0.4158 - val_loss: 0.9612 - val_accuracy: 0.6550\n",
      "Epoch 2/20\n",
      "38/38 - 318s - loss: 0.8431 - accuracy: 0.6071 - val_loss: 0.7281 - val_accuracy: 0.7483\n",
      "Epoch 3/20\n",
      "38/38 - 318s - loss: 0.7089 - accuracy: 0.6904 - val_loss: 0.5773 - val_accuracy: 0.7967\n",
      "Epoch 4/20\n",
      "38/38 - 313s - loss: 0.6033 - accuracy: 0.7337 - val_loss: 0.5429 - val_accuracy: 0.8033\n",
      "Epoch 5/20\n",
      "38/38 - 311s - loss: 0.5368 - accuracy: 0.7812 - val_loss: 0.3596 - val_accuracy: 0.8567\n",
      "Epoch 6/20\n",
      "38/38 - 317s - loss: 0.4585 - accuracy: 0.8012 - val_loss: 0.3518 - val_accuracy: 0.8667\n",
      "Epoch 7/20\n",
      "38/38 - 364s - loss: 0.4042 - accuracy: 0.8454 - val_loss: 0.3433 - val_accuracy: 0.8667\n",
      "Epoch 8/20\n",
      "38/38 - 330s - loss: 0.3860 - accuracy: 0.8475 - val_loss: 0.3125 - val_accuracy: 0.8800\n",
      "Epoch 9/20\n",
      "38/38 - 331s - loss: 0.3497 - accuracy: 0.8621 - val_loss: 0.2857 - val_accuracy: 0.9050\n",
      "Epoch 10/20\n",
      "38/38 - 327s - loss: 0.3115 - accuracy: 0.8783 - val_loss: 0.2796 - val_accuracy: 0.9100\n",
      "Epoch 11/20\n",
      "38/38 - 331s - loss: 0.2818 - accuracy: 0.8908 - val_loss: 0.2511 - val_accuracy: 0.9067\n",
      "Epoch 12/20\n",
      "38/38 - 322s - loss: 0.2682 - accuracy: 0.8992 - val_loss: 0.2483 - val_accuracy: 0.9200\n",
      "Epoch 13/20\n",
      "38/38 - 317s - loss: 0.2567 - accuracy: 0.9058 - val_loss: 0.2629 - val_accuracy: 0.9117\n",
      "Epoch 14/20\n",
      "38/38 - 323s - loss: 0.2276 - accuracy: 0.9137 - val_loss: 0.2606 - val_accuracy: 0.9217\n",
      "Epoch 15/20\n",
      "38/38 - 313s - loss: 0.2059 - accuracy: 0.9187 - val_loss: 0.2727 - val_accuracy: 0.9017\n",
      "Epoch 16/20\n",
      "38/38 - 317s - loss: 0.1991 - accuracy: 0.9279 - val_loss: 0.3075 - val_accuracy: 0.8950\n",
      "Epoch 17/20\n",
      "38/38 - 321s - loss: 0.1923 - accuracy: 0.9287 - val_loss: 0.2531 - val_accuracy: 0.9133\n",
      "Epoch 18/20\n",
      "38/38 - 321s - loss: 0.1869 - accuracy: 0.9279 - val_loss: 0.2509 - val_accuracy: 0.9183\n",
      "Epoch 19/20\n",
      "38/38 - 407s - loss: 0.1868 - accuracy: 0.9354 - val_loss: 0.4203 - val_accuracy: 0.8683\n",
      "Epoch 20/20\n",
      "38/38 - 534s - loss: 0.1715 - accuracy: 0.9404 - val_loss: 0.2703 - val_accuracy: 0.9283\n"
     ]
    }
   ],
   "source": [
    "# attempting to decrease validation loss with dropout regularization techniques\n",
    "from keras.layers import Dropout\n",
    "\n",
    "def build_dropout_CNN():\n",
    "    cnn = Sequential()\n",
    "    cnn.add(Conv2D(32, (3, 3), activation='relu', kernel_initializer='he_uniform', padding='same', input_shape=(299, 299, 3)))\n",
    "    cnn.add(MaxPooling2D((2, 2)))\n",
    "    cnn.add(Dropout(0.2))\n",
    "    cnn.add(Conv2D(64, (3, 3), activation='relu', kernel_initializer='he_uniform', padding='same'))\n",
    "    cnn.add(MaxPooling2D((2, 2)))\n",
    "    cnn.add(Dropout(0.2))\n",
    "    cnn.add(Conv2D(128, (3, 3), activation='relu', kernel_initializer='he_uniform', padding='same'))\n",
    "    cnn.add(MaxPooling2D((2, 2)))\n",
    "    cnn.add(Dropout(0.2))\n",
    "    cnn.add(Flatten())\n",
    "    cnn.add(Dense(128, activation='relu', kernel_initializer='he_uniform'))\n",
    "    cnn.add(Dropout(0.5))\n",
    "    cnn.add(Dense(64, activation='relu', kernel_initializer='he_uniform'))\n",
    "    cnn.add(Dropout(0.5))\n",
    "    cnn.add(Dense(3, activation='softmax'))\n",
    "    cnn.compile(optimizer=\"adam\", loss='categorical_crossentropy', metrics=['accuracy'])\n",
    "    return cnn\n",
    "\n",
    "dropout_model = build_dropout_CNN()\n",
    "\n",
    "dropout_history = dropout_model.fit_generator(\n",
    "    train_generator, \n",
    "    steps_per_epoch=len(train_generator),\n",
    "    validation_data=validation_generator, \n",
    "    validation_steps=len(validation_generator), \n",
    "    epochs=20, \n",
    "    verbose=2)"
   ]
  },
  {
   "cell_type": "code",
   "execution_count": 109,
   "id": "4962dc1d",
   "metadata": {},
   "outputs": [
    {
     "data": {
      "text/plain": [
       "Text(0.5, 1.0, 'Training and validation loss')"
      ]
     },
     "execution_count": 109,
     "metadata": {},
     "output_type": "execute_result"
    },
    {
     "data": {
      "image/png": "[encoded data removed]",
      "text/plain": [
       "<Figure size 432x288 with 1 Axes>"
      ]
     },
     "metadata": {
      "needs_background": "light"
     },
     "output_type": "display_data"
    },
    {
     "data": {
      "image/png": "[encoded data removed]",
      "text/plain": [
       "<Figure size 432x288 with 1 Axes>"
      ]
     },
     "metadata": {
      "needs_background": "light"
     },
     "output_type": "display_data"
    }
   ],
   "source": [
    "dropout_acc = dropout_history.history['accuracy']\n",
    "dropout_val_acc = dropout_history.history['val_accuracy']\n",
    "\n",
    "# Retrieve a list of list results on training and validation data\n",
    "# sets for each training epoch\n",
    "dropout_loss = dropout_history.history['loss']\n",
    "dropout_val_loss = dropout_history.history['val_loss']\n",
    "\n",
    "# Get number of epochs\n",
    "dropout_epochs = range(len(dropout_acc))\n",
    "\n",
    "# Plot training and validation accuracy per epoch\n",
    "plt.plot(dropout_epochs, dropout_acc)\n",
    "plt.plot(dropout_epochs, dropout_val_acc)\n",
    "plt.title('Training and validation accuracy')\n",
    "\n",
    "plt.figure()\n",
    "\n",
    "# Plot training and validation loss per epoch\n",
    "plt.plot(dropout_epochs, dropout_loss)\n",
    "plt.plot(dropout_epochs, dropout_val_loss)\n",
    "plt.title('Training and validation loss')"
   ]
  },
  {
   "cell_type": "code",
   "execution_count": 7,
   "id": "111b3b68",
   "metadata": {},
   "outputs": [
    {
     "name": "stdout",
     "output_type": "stream",
     "text": [
      "Found 2400 images belonging to 3 classes.\n",
      "Found 600 images belonging to 3 classes.\n"
     ]
    }
   ],
   "source": [
    "# image augmentation CNN\n",
    "\n",
    "# Image pre-processing\n",
    "aug_train_datagen = ImageDataGenerator(rescale=1./255,\n",
    "                                  width_shift_range=0.1, \n",
    "                                  height_shift_range=0.1,\n",
    "                                  horizontal_flip=True)\n",
    "aug_val_datagen = ImageDataGenerator(rescale=1./255)\n",
    "\n",
    "# Flow training images in batches using train_datagen generator\n",
    "aug_train_generator = aug_train_datagen.flow_from_directory(\n",
    "        train_dir,\n",
    "        target_size=(299, 299),\n",
    "        batch_size=64,\n",
    "        class_mode='categorical')\n",
    "\n",
    "# Flow validation images in batches using val_datagen generator\n",
    "aug_validation_generator = aug_val_datagen.flow_from_directory(\n",
    "        valid_dir,\n",
    "        target_size=(299, 299),\n",
    "        batch_size=64,\n",
    "        class_mode='categorical')\n"
   ]
  },
  {
   "cell_type": "code",
   "execution_count": 9,
   "id": "5113fe7b",
   "metadata": {},
   "outputs": [
    {
     "name": "stdout",
     "output_type": "stream",
     "text": [
      "WARNING:tensorflow:From <ipython-input-9-6a2ee16b7a4f>:26: Model.fit_generator (from tensorflow.python.keras.engine.training) is deprecated and will be removed in a future version.\n",
      "Instructions for updating:\n",
      "Please use Model.fit, which supports generators.\n",
      "Epoch 1/20\n",
      "38/38 - 351s - loss: 13.3533 - accuracy: 0.4050 - val_loss: 0.9502 - val_accuracy: 0.5217\n",
      "Epoch 2/20\n",
      "38/38 - 344s - loss: 0.8909 - accuracy: 0.5596 - val_loss: 0.8065 - val_accuracy: 0.6083\n",
      "Epoch 3/20\n",
      "38/38 - 340s - loss: 0.7969 - accuracy: 0.6096 - val_loss: 0.7327 - val_accuracy: 0.6667\n",
      "Epoch 4/20\n",
      "38/38 - 340s - loss: 0.7420 - accuracy: 0.6404 - val_loss: 0.6944 - val_accuracy: 0.7100\n",
      "Epoch 5/20\n",
      "38/38 - 331s - loss: 0.7142 - accuracy: 0.6525 - val_loss: 0.5887 - val_accuracy: 0.7150\n",
      "Epoch 6/20\n",
      "38/38 - 330s - loss: 0.6952 - accuracy: 0.6492 - val_loss: 0.5964 - val_accuracy: 0.7283\n",
      "Epoch 7/20\n",
      "38/38 - 327s - loss: 0.6441 - accuracy: 0.6733 - val_loss: 0.6071 - val_accuracy: 0.7150\n",
      "Epoch 8/20\n",
      "38/38 - 325s - loss: 0.6422 - accuracy: 0.6875 - val_loss: 0.5386 - val_accuracy: 0.7500\n",
      "Epoch 9/20\n",
      "38/38 - 327s - loss: 0.6224 - accuracy: 0.7175 - val_loss: 0.5311 - val_accuracy: 0.7483\n",
      "Epoch 10/20\n",
      "38/38 - 330s - loss: 0.6063 - accuracy: 0.7092 - val_loss: 0.5476 - val_accuracy: 0.7633\n",
      "Epoch 11/20\n",
      "38/38 - 337s - loss: 0.5991 - accuracy: 0.7204 - val_loss: 0.5383 - val_accuracy: 0.7517\n",
      "Epoch 12/20\n",
      "38/38 - 328s - loss: 0.5894 - accuracy: 0.7217 - val_loss: 0.5001 - val_accuracy: 0.7667\n",
      "Epoch 13/20\n"
     ]
    },
    {
     "ename": "KeyboardInterrupt",
     "evalue": "",
     "output_type": "error",
     "traceback": [
      "\u001b[1;31m---------------------------------------------------------------------------\u001b[0m",
      "\u001b[1;31mKeyboardInterrupt\u001b[0m                         Traceback (most recent call last)",
      "\u001b[1;32m<ipython-input-9-6a2ee16b7a4f>\u001b[0m in \u001b[0;36m<module>\u001b[1;34m\u001b[0m\n\u001b[0;32m     24\u001b[0m \u001b[0maug_model\u001b[0m \u001b[1;33m=\u001b[0m \u001b[0mbuild_dropout_CNN\u001b[0m\u001b[1;33m(\u001b[0m\u001b[1;33m)\u001b[0m\u001b[1;33m\u001b[0m\u001b[1;33m\u001b[0m\u001b[0m\n\u001b[0;32m     25\u001b[0m \u001b[1;33m\u001b[0m\u001b[0m\n\u001b[1;32m---> 26\u001b[1;33m aug_history = aug_model.fit_generator(\n\u001b[0m\u001b[0;32m     27\u001b[0m     \u001b[0maug_train_generator\u001b[0m\u001b[1;33m,\u001b[0m\u001b[1;33m\u001b[0m\u001b[1;33m\u001b[0m\u001b[0m\n\u001b[0;32m     28\u001b[0m     \u001b[0msteps_per_epoch\u001b[0m\u001b[1;33m=\u001b[0m\u001b[0mlen\u001b[0m\u001b[1;33m(\u001b[0m\u001b[0maug_train_generator\u001b[0m\u001b[1;33m)\u001b[0m\u001b[1;33m,\u001b[0m\u001b[1;33m\u001b[0m\u001b[1;33m\u001b[0m\u001b[0m\n",
      "\u001b[1;32m~\\anaconda3\\lib\\site-packages\\tensorflow\\python\\util\\deprecation.py\u001b[0m in \u001b[0;36mnew_func\u001b[1;34m(*args, **kwargs)\u001b[0m\n\u001b[0;32m    322\u001b[0m               \u001b[1;34m'in a future version'\u001b[0m \u001b[1;32mif\u001b[0m \u001b[0mdate\u001b[0m \u001b[1;32mis\u001b[0m \u001b[1;32mNone\u001b[0m \u001b[1;32melse\u001b[0m \u001b[1;33m(\u001b[0m\u001b[1;34m'after %s'\u001b[0m \u001b[1;33m%\u001b[0m \u001b[0mdate\u001b[0m\u001b[1;33m)\u001b[0m\u001b[1;33m,\u001b[0m\u001b[1;33m\u001b[0m\u001b[1;33m\u001b[0m\u001b[0m\n\u001b[0;32m    323\u001b[0m               instructions)\n\u001b[1;32m--> 324\u001b[1;33m       \u001b[1;32mreturn\u001b[0m \u001b[0mfunc\u001b[0m\u001b[1;33m(\u001b[0m\u001b[1;33m*\u001b[0m\u001b[0margs\u001b[0m\u001b[1;33m,\u001b[0m \u001b[1;33m**\u001b[0m\u001b[0mkwargs\u001b[0m\u001b[1;33m)\u001b[0m\u001b[1;33m\u001b[0m\u001b[1;33m\u001b[0m\u001b[0m\n\u001b[0m\u001b[0;32m    325\u001b[0m     return tf_decorator.make_decorator(\n\u001b[0;32m    326\u001b[0m         \u001b[0mfunc\u001b[0m\u001b[1;33m,\u001b[0m \u001b[0mnew_func\u001b[0m\u001b[1;33m,\u001b[0m \u001b[1;34m'deprecated'\u001b[0m\u001b[1;33m,\u001b[0m\u001b[1;33m\u001b[0m\u001b[1;33m\u001b[0m\u001b[0m\n",
      "\u001b[1;32m~\\anaconda3\\lib\\site-packages\\tensorflow\\python\\keras\\engine\\training.py\u001b[0m in \u001b[0;36mfit_generator\u001b[1;34m(self, generator, steps_per_epoch, epochs, verbose, callbacks, validation_data, validation_steps, validation_freq, class_weight, max_queue_size, workers, use_multiprocessing, shuffle, initial_epoch)\u001b[0m\n\u001b[0;32m   1813\u001b[0m     \"\"\"\n\u001b[0;32m   1814\u001b[0m     \u001b[0m_keras_api_gauge\u001b[0m\u001b[1;33m.\u001b[0m\u001b[0mget_cell\u001b[0m\u001b[1;33m(\u001b[0m\u001b[1;34m'fit_generator'\u001b[0m\u001b[1;33m)\u001b[0m\u001b[1;33m.\u001b[0m\u001b[0mset\u001b[0m\u001b[1;33m(\u001b[0m\u001b[1;32mTrue\u001b[0m\u001b[1;33m)\u001b[0m\u001b[1;33m\u001b[0m\u001b[1;33m\u001b[0m\u001b[0m\n\u001b[1;32m-> 1815\u001b[1;33m     return self.fit(\n\u001b[0m\u001b[0;32m   1816\u001b[0m         \u001b[0mgenerator\u001b[0m\u001b[1;33m,\u001b[0m\u001b[1;33m\u001b[0m\u001b[1;33m\u001b[0m\u001b[0m\n\u001b[0;32m   1817\u001b[0m         \u001b[0msteps_per_epoch\u001b[0m\u001b[1;33m=\u001b[0m\u001b[0msteps_per_epoch\u001b[0m\u001b[1;33m,\u001b[0m\u001b[1;33m\u001b[0m\u001b[1;33m\u001b[0m\u001b[0m\n",
      "\u001b[1;32m~\\anaconda3\\lib\\site-packages\\tensorflow\\python\\keras\\engine\\training.py\u001b[0m in \u001b[0;36m_method_wrapper\u001b[1;34m(self, *args, **kwargs)\u001b[0m\n\u001b[0;32m    106\u001b[0m   \u001b[1;32mdef\u001b[0m \u001b[0m_method_wrapper\u001b[0m\u001b[1;33m(\u001b[0m\u001b[0mself\u001b[0m\u001b[1;33m,\u001b[0m \u001b[1;33m*\u001b[0m\u001b[0margs\u001b[0m\u001b[1;33m,\u001b[0m \u001b[1;33m**\u001b[0m\u001b[0mkwargs\u001b[0m\u001b[1;33m)\u001b[0m\u001b[1;33m:\u001b[0m\u001b[1;33m\u001b[0m\u001b[1;33m\u001b[0m\u001b[0m\n\u001b[0;32m    107\u001b[0m     \u001b[1;32mif\u001b[0m \u001b[1;32mnot\u001b[0m \u001b[0mself\u001b[0m\u001b[1;33m.\u001b[0m\u001b[0m_in_multi_worker_mode\u001b[0m\u001b[1;33m(\u001b[0m\u001b[1;33m)\u001b[0m\u001b[1;33m:\u001b[0m  \u001b[1;31m# pylint: disable=protected-access\u001b[0m\u001b[1;33m\u001b[0m\u001b[1;33m\u001b[0m\u001b[0m\n\u001b[1;32m--> 108\u001b[1;33m       \u001b[1;32mreturn\u001b[0m \u001b[0mmethod\u001b[0m\u001b[1;33m(\u001b[0m\u001b[0mself\u001b[0m\u001b[1;33m,\u001b[0m \u001b[1;33m*\u001b[0m\u001b[0margs\u001b[0m\u001b[1;33m,\u001b[0m \u001b[1;33m**\u001b[0m\u001b[0mkwargs\u001b[0m\u001b[1;33m)\u001b[0m\u001b[1;33m\u001b[0m\u001b[1;33m\u001b[0m\u001b[0m\n\u001b[0m\u001b[0;32m    109\u001b[0m \u001b[1;33m\u001b[0m\u001b[0m\n\u001b[0;32m    110\u001b[0m     \u001b[1;31m# Running inside `run_distribute_coordinator` already.\u001b[0m\u001b[1;33m\u001b[0m\u001b[1;33m\u001b[0m\u001b[1;33m\u001b[0m\u001b[0m\n",
      "\u001b[1;32m~\\anaconda3\\lib\\site-packages\\tensorflow\\python\\keras\\engine\\training.py\u001b[0m in \u001b[0;36mfit\u001b[1;34m(self, x, y, batch_size, epochs, verbose, callbacks, validation_split, validation_data, shuffle, class_weight, sample_weight, initial_epoch, steps_per_epoch, validation_steps, validation_batch_size, validation_freq, max_queue_size, workers, use_multiprocessing)\u001b[0m\n\u001b[0;32m   1096\u001b[0m                 batch_size=batch_size):\n\u001b[0;32m   1097\u001b[0m               \u001b[0mcallbacks\u001b[0m\u001b[1;33m.\u001b[0m\u001b[0mon_train_batch_begin\u001b[0m\u001b[1;33m(\u001b[0m\u001b[0mstep\u001b[0m\u001b[1;33m)\u001b[0m\u001b[1;33m\u001b[0m\u001b[1;33m\u001b[0m\u001b[0m\n\u001b[1;32m-> 1098\u001b[1;33m               \u001b[0mtmp_logs\u001b[0m \u001b[1;33m=\u001b[0m \u001b[0mtrain_function\u001b[0m\u001b[1;33m(\u001b[0m\u001b[0miterator\u001b[0m\u001b[1;33m)\u001b[0m\u001b[1;33m\u001b[0m\u001b[1;33m\u001b[0m\u001b[0m\n\u001b[0m\u001b[0;32m   1099\u001b[0m               \u001b[1;32mif\u001b[0m \u001b[0mdata_handler\u001b[0m\u001b[1;33m.\u001b[0m\u001b[0mshould_sync\u001b[0m\u001b[1;33m:\u001b[0m\u001b[1;33m\u001b[0m\u001b[1;33m\u001b[0m\u001b[0m\n\u001b[0;32m   1100\u001b[0m                 \u001b[0mcontext\u001b[0m\u001b[1;33m.\u001b[0m\u001b[0masync_wait\u001b[0m\u001b[1;33m(\u001b[0m\u001b[1;33m)\u001b[0m\u001b[1;33m\u001b[0m\u001b[1;33m\u001b[0m\u001b[0m\n",
      "\u001b[1;32m~\\anaconda3\\lib\\site-packages\\tensorflow\\python\\eager\\def_function.py\u001b[0m in \u001b[0;36m__call__\u001b[1;34m(self, *args, **kwds)\u001b[0m\n\u001b[0;32m    778\u001b[0m       \u001b[1;32melse\u001b[0m\u001b[1;33m:\u001b[0m\u001b[1;33m\u001b[0m\u001b[1;33m\u001b[0m\u001b[0m\n\u001b[0;32m    779\u001b[0m         \u001b[0mcompiler\u001b[0m \u001b[1;33m=\u001b[0m \u001b[1;34m\"nonXla\"\u001b[0m\u001b[1;33m\u001b[0m\u001b[1;33m\u001b[0m\u001b[0m\n\u001b[1;32m--> 780\u001b[1;33m         \u001b[0mresult\u001b[0m \u001b[1;33m=\u001b[0m \u001b[0mself\u001b[0m\u001b[1;33m.\u001b[0m\u001b[0m_call\u001b[0m\u001b[1;33m(\u001b[0m\u001b[1;33m*\u001b[0m\u001b[0margs\u001b[0m\u001b[1;33m,\u001b[0m \u001b[1;33m**\u001b[0m\u001b[0mkwds\u001b[0m\u001b[1;33m)\u001b[0m\u001b[1;33m\u001b[0m\u001b[1;33m\u001b[0m\u001b[0m\n\u001b[0m\u001b[0;32m    781\u001b[0m \u001b[1;33m\u001b[0m\u001b[0m\n\u001b[0;32m    782\u001b[0m       \u001b[0mnew_tracing_count\u001b[0m \u001b[1;33m=\u001b[0m \u001b[0mself\u001b[0m\u001b[1;33m.\u001b[0m\u001b[0m_get_tracing_count\u001b[0m\u001b[1;33m(\u001b[0m\u001b[1;33m)\u001b[0m\u001b[1;33m\u001b[0m\u001b[1;33m\u001b[0m\u001b[0m\n",
      "\u001b[1;32m~\\anaconda3\\lib\\site-packages\\tensorflow\\python\\eager\\def_function.py\u001b[0m in \u001b[0;36m_call\u001b[1;34m(self, *args, **kwds)\u001b[0m\n\u001b[0;32m    805\u001b[0m       \u001b[1;31m# In this case we have created variables on the first call, so we run the\u001b[0m\u001b[1;33m\u001b[0m\u001b[1;33m\u001b[0m\u001b[1;33m\u001b[0m\u001b[0m\n\u001b[0;32m    806\u001b[0m       \u001b[1;31m# defunned version which is guaranteed to never create variables.\u001b[0m\u001b[1;33m\u001b[0m\u001b[1;33m\u001b[0m\u001b[1;33m\u001b[0m\u001b[0m\n\u001b[1;32m--> 807\u001b[1;33m       \u001b[1;32mreturn\u001b[0m \u001b[0mself\u001b[0m\u001b[1;33m.\u001b[0m\u001b[0m_stateless_fn\u001b[0m\u001b[1;33m(\u001b[0m\u001b[1;33m*\u001b[0m\u001b[0margs\u001b[0m\u001b[1;33m,\u001b[0m \u001b[1;33m**\u001b[0m\u001b[0mkwds\u001b[0m\u001b[1;33m)\u001b[0m  \u001b[1;31m# pylint: disable=not-callable\u001b[0m\u001b[1;33m\u001b[0m\u001b[1;33m\u001b[0m\u001b[0m\n\u001b[0m\u001b[0;32m    808\u001b[0m     \u001b[1;32melif\u001b[0m \u001b[0mself\u001b[0m\u001b[1;33m.\u001b[0m\u001b[0m_stateful_fn\u001b[0m \u001b[1;32mis\u001b[0m \u001b[1;32mnot\u001b[0m \u001b[1;32mNone\u001b[0m\u001b[1;33m:\u001b[0m\u001b[1;33m\u001b[0m\u001b[1;33m\u001b[0m\u001b[0m\n\u001b[0;32m    809\u001b[0m       \u001b[1;31m# Release the lock early so that multiple threads can perform the call\u001b[0m\u001b[1;33m\u001b[0m\u001b[1;33m\u001b[0m\u001b[1;33m\u001b[0m\u001b[0m\n",
      "\u001b[1;32m~\\anaconda3\\lib\\site-packages\\tensorflow\\python\\eager\\function.py\u001b[0m in \u001b[0;36m__call__\u001b[1;34m(self, *args, **kwargs)\u001b[0m\n\u001b[0;32m   2827\u001b[0m     \u001b[1;32mwith\u001b[0m \u001b[0mself\u001b[0m\u001b[1;33m.\u001b[0m\u001b[0m_lock\u001b[0m\u001b[1;33m:\u001b[0m\u001b[1;33m\u001b[0m\u001b[1;33m\u001b[0m\u001b[0m\n\u001b[0;32m   2828\u001b[0m       \u001b[0mgraph_function\u001b[0m\u001b[1;33m,\u001b[0m \u001b[0margs\u001b[0m\u001b[1;33m,\u001b[0m \u001b[0mkwargs\u001b[0m \u001b[1;33m=\u001b[0m \u001b[0mself\u001b[0m\u001b[1;33m.\u001b[0m\u001b[0m_maybe_define_function\u001b[0m\u001b[1;33m(\u001b[0m\u001b[0margs\u001b[0m\u001b[1;33m,\u001b[0m \u001b[0mkwargs\u001b[0m\u001b[1;33m)\u001b[0m\u001b[1;33m\u001b[0m\u001b[1;33m\u001b[0m\u001b[0m\n\u001b[1;32m-> 2829\u001b[1;33m     \u001b[1;32mreturn\u001b[0m \u001b[0mgraph_function\u001b[0m\u001b[1;33m.\u001b[0m\u001b[0m_filtered_call\u001b[0m\u001b[1;33m(\u001b[0m\u001b[0margs\u001b[0m\u001b[1;33m,\u001b[0m \u001b[0mkwargs\u001b[0m\u001b[1;33m)\u001b[0m  \u001b[1;31m# pylint: disable=protected-access\u001b[0m\u001b[1;33m\u001b[0m\u001b[1;33m\u001b[0m\u001b[0m\n\u001b[0m\u001b[0;32m   2830\u001b[0m \u001b[1;33m\u001b[0m\u001b[0m\n\u001b[0;32m   2831\u001b[0m   \u001b[1;33m@\u001b[0m\u001b[0mproperty\u001b[0m\u001b[1;33m\u001b[0m\u001b[1;33m\u001b[0m\u001b[0m\n",
      "\u001b[1;32m~\\anaconda3\\lib\\site-packages\\tensorflow\\python\\eager\\function.py\u001b[0m in \u001b[0;36m_filtered_call\u001b[1;34m(self, args, kwargs, cancellation_manager)\u001b[0m\n\u001b[0;32m   1841\u001b[0m       \u001b[0;31m`\u001b[0m\u001b[0margs\u001b[0m\u001b[0;31m`\u001b[0m \u001b[1;32mand\u001b[0m\u001b[0;31m \u001b[0m\u001b[0;31m`\u001b[0m\u001b[0mkwargs\u001b[0m\u001b[0;31m`\u001b[0m\u001b[1;33m.\u001b[0m\u001b[1;33m\u001b[0m\u001b[1;33m\u001b[0m\u001b[0m\n\u001b[0;32m   1842\u001b[0m     \"\"\"\n\u001b[1;32m-> 1843\u001b[1;33m     return self._call_flat(\n\u001b[0m\u001b[0;32m   1844\u001b[0m         [t for t in nest.flatten((args, kwargs), expand_composites=True)\n\u001b[0;32m   1845\u001b[0m          if isinstance(t, (ops.Tensor,\n",
      "\u001b[1;32m~\\anaconda3\\lib\\site-packages\\tensorflow\\python\\eager\\function.py\u001b[0m in \u001b[0;36m_call_flat\u001b[1;34m(self, args, captured_inputs, cancellation_manager)\u001b[0m\n\u001b[0;32m   1921\u001b[0m         and executing_eagerly):\n\u001b[0;32m   1922\u001b[0m       \u001b[1;31m# No tape is watching; skip to running the function.\u001b[0m\u001b[1;33m\u001b[0m\u001b[1;33m\u001b[0m\u001b[1;33m\u001b[0m\u001b[0m\n\u001b[1;32m-> 1923\u001b[1;33m       return self._build_call_outputs(self._inference_function.call(\n\u001b[0m\u001b[0;32m   1924\u001b[0m           ctx, args, cancellation_manager=cancellation_manager))\n\u001b[0;32m   1925\u001b[0m     forward_backward = self._select_forward_and_backward_functions(\n",
      "\u001b[1;32m~\\anaconda3\\lib\\site-packages\\tensorflow\\python\\eager\\function.py\u001b[0m in \u001b[0;36mcall\u001b[1;34m(self, ctx, args, cancellation_manager)\u001b[0m\n\u001b[0;32m    543\u001b[0m       \u001b[1;32mwith\u001b[0m \u001b[0m_InterpolateFunctionError\u001b[0m\u001b[1;33m(\u001b[0m\u001b[0mself\u001b[0m\u001b[1;33m)\u001b[0m\u001b[1;33m:\u001b[0m\u001b[1;33m\u001b[0m\u001b[1;33m\u001b[0m\u001b[0m\n\u001b[0;32m    544\u001b[0m         \u001b[1;32mif\u001b[0m \u001b[0mcancellation_manager\u001b[0m \u001b[1;32mis\u001b[0m \u001b[1;32mNone\u001b[0m\u001b[1;33m:\u001b[0m\u001b[1;33m\u001b[0m\u001b[1;33m\u001b[0m\u001b[0m\n\u001b[1;32m--> 545\u001b[1;33m           outputs = execute.execute(\n\u001b[0m\u001b[0;32m    546\u001b[0m               \u001b[0mstr\u001b[0m\u001b[1;33m(\u001b[0m\u001b[0mself\u001b[0m\u001b[1;33m.\u001b[0m\u001b[0msignature\u001b[0m\u001b[1;33m.\u001b[0m\u001b[0mname\u001b[0m\u001b[1;33m)\u001b[0m\u001b[1;33m,\u001b[0m\u001b[1;33m\u001b[0m\u001b[1;33m\u001b[0m\u001b[0m\n\u001b[0;32m    547\u001b[0m               \u001b[0mnum_outputs\u001b[0m\u001b[1;33m=\u001b[0m\u001b[0mself\u001b[0m\u001b[1;33m.\u001b[0m\u001b[0m_num_outputs\u001b[0m\u001b[1;33m,\u001b[0m\u001b[1;33m\u001b[0m\u001b[1;33m\u001b[0m\u001b[0m\n",
      "\u001b[1;32m~\\anaconda3\\lib\\site-packages\\tensorflow\\python\\eager\\execute.py\u001b[0m in \u001b[0;36mquick_execute\u001b[1;34m(op_name, num_outputs, inputs, attrs, ctx, name)\u001b[0m\n\u001b[0;32m     57\u001b[0m   \u001b[1;32mtry\u001b[0m\u001b[1;33m:\u001b[0m\u001b[1;33m\u001b[0m\u001b[1;33m\u001b[0m\u001b[0m\n\u001b[0;32m     58\u001b[0m     \u001b[0mctx\u001b[0m\u001b[1;33m.\u001b[0m\u001b[0mensure_initialized\u001b[0m\u001b[1;33m(\u001b[0m\u001b[1;33m)\u001b[0m\u001b[1;33m\u001b[0m\u001b[1;33m\u001b[0m\u001b[0m\n\u001b[1;32m---> 59\u001b[1;33m     tensors = pywrap_tfe.TFE_Py_Execute(ctx._handle, device_name, op_name,\n\u001b[0m\u001b[0;32m     60\u001b[0m                                         inputs, attrs, num_outputs)\n\u001b[0;32m     61\u001b[0m   \u001b[1;32mexcept\u001b[0m \u001b[0mcore\u001b[0m\u001b[1;33m.\u001b[0m\u001b[0m_NotOkStatusException\u001b[0m \u001b[1;32mas\u001b[0m \u001b[0me\u001b[0m\u001b[1;33m:\u001b[0m\u001b[1;33m\u001b[0m\u001b[1;33m\u001b[0m\u001b[0m\n",
      "\u001b[1;31mKeyboardInterrupt\u001b[0m: "
     ]
    }
   ],
   "source": [
    "# fit the model with the new image augmentation and dropout regularization\n",
    "from keras.layers import Dropout\n",
    "\n",
    "def build_dropout_CNN():\n",
    "    cnn = Sequential()\n",
    "    cnn.add(Conv2D(32, (3, 3), activation='relu', kernel_initializer='he_uniform', padding='same', input_shape=(299, 299, 3)))\n",
    "    cnn.add(MaxPooling2D((2, 2)))\n",
    "    cnn.add(Dropout(0.2))\n",
    "    cnn.add(Conv2D(64, (3, 3), activation='relu', kernel_initializer='he_uniform', padding='same'))\n",
    "    cnn.add(MaxPooling2D((2, 2)))\n",
    "    cnn.add(Dropout(0.2))\n",
    "    cnn.add(Conv2D(128, (3, 3), activation='relu', kernel_initializer='he_uniform', padding='same'))\n",
    "    cnn.add(MaxPooling2D((2, 2)))\n",
    "    cnn.add(Dropout(0.2))\n",
    "    cnn.add(Flatten())\n",
    "    cnn.add(Dense(128, activation='relu', kernel_initializer='he_uniform'))\n",
    "    cnn.add(Dropout(0.5))\n",
    "    cnn.add(Dense(64, activation='relu', kernel_initializer='he_uniform'))\n",
    "    cnn.add(Dropout(0.5))\n",
    "    cnn.add(Dense(3, activation='softmax'))\n",
    "    cnn.compile(optimizer=\"adam\", loss='categorical_crossentropy', metrics=['accuracy'])\n",
    "    return cnn\n",
    "\n",
    "aug_model = build_dropout_CNN()\n",
    "\n",
    "aug_history = aug_model.fit_generator(\n",
    "    aug_train_generator, \n",
    "    steps_per_epoch=len(aug_train_generator),\n",
    "    validation_data=aug_validation_generator, \n",
    "    validation_steps=len(aug_validation_generator), \n",
    "    epochs=20, \n",
    "    verbose=2)"
   ]
  },
  {
   "cell_type": "code",
   "execution_count": null,
   "id": "4d3ace89",
   "metadata": {},
   "outputs": [],
   "source": []
  }
 ],
 "metadata": {
  "kernelspec": {
   "display_name": "Python 3",
   "language": "python",
   "name": "python3"
  },
  "language_info": {
   "codemirror_mode": {
    "name": "ipython",
    "version": 3
   },
   "file_extension": ".py",
   "mimetype": "text/x-python",
   "name": "python",
   "nbconvert_exporter": "python",
   "pygments_lexer": "ipython3",
   "version": "3.8.8"
  }
 },
 "nbformat": 4,
 "nbformat_minor": 5
}
